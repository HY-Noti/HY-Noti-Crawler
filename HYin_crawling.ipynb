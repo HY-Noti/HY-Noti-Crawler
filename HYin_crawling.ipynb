{
 "cells": [
  {
   "cell_type": "code",
   "execution_count": 1,
   "id": "d636808a-8534-4edd-bed0-671d443029de",
   "metadata": {},
   "outputs": [],
   "source": [
    "import selenium\n",
    "from selenium import webdriver\n",
    "from selenium.webdriver.common.by import By"
   ]
  },
  {
   "cell_type": "code",
   "execution_count": 2,
   "id": "c87971ed-1e8e-4a31-a197-281a7fbd3c53",
   "metadata": {},
   "outputs": [],
   "source": [
    "from time import sleep\n",
    "import random\n",
    "import pandas as pd"
   ]
  },
  {
   "cell_type": "code",
   "execution_count": 3,
   "id": "65c768ae-553b-4b05-aa6e-aeb242b7172b",
   "metadata": {},
   "outputs": [],
   "source": [
    "from selenium.webdriver.common.by import By\n",
    "from selenium.webdriver.support.ui import WebDriverWait\n",
    "from selenium.webdriver.support import expected_conditions as EC"
   ]
  },
  {
   "cell_type": "code",
   "execution_count": 4,
   "id": "4734a34d-56ab-49ec-be88-554c418544ba",
   "metadata": {},
   "outputs": [],
   "source": [
    "from webdriver_manager.chrome import ChromeDriverManager\n",
    "from selenium.webdriver.chrome.service import Service\n",
    "import requests"
   ]
  },
  {
   "cell_type": "code",
   "execution_count": 5,
   "id": "64b3effa-47f9-4010-9ad8-c06feca76848",
   "metadata": {},
   "outputs": [],
   "source": [
    "import yaml\n",
    "\n",
    "with open('secrets.yaml', 'r') as file:\n",
    "    secrets = yaml.safe_load(file)\n",
    "\n",
    "my_id = secrets['my_id']\n",
    "my_pw = secrets['my_pw']"
   ]
  },
  {
   "cell_type": "code",
   "execution_count": 6,
   "id": "534a032e-8e09-450f-b51b-ffa224329f2d",
   "metadata": {},
   "outputs": [
    {
     "name": "stderr",
     "output_type": "stream",
     "text": [
      "/var/folders/rg/mxvp06m56_g09wl1jz84qkhh0000gn/T/ipykernel_49382/699548518.py:6: DeprecationWarning: executable_path has been deprecated, please pass in a Service object\n",
      "  driver = webdriver.Chrome(chrome_driver_binary, chrome_options=options)\n",
      "/var/folders/rg/mxvp06m56_g09wl1jz84qkhh0000gn/T/ipykernel_49382/699548518.py:6: DeprecationWarning: use options instead of chrome_options\n",
      "  driver = webdriver.Chrome(chrome_driver_binary, chrome_options=options)\n"
     ]
    },
    {
     "name": "stdout",
     "output_type": "stream",
     "text": [
      "##########driver open##########\n"
     ]
    }
   ],
   "source": [
    "# 바이너리 오류가 발생할 경우\n",
    "# 크롬 바이너리 경로와 크롬 드라이버 바이너리 경로를 둘다 명시해줘야함\n",
    "options = webdriver.ChromeOptions()\n",
    "options.binary_location = \"/Applications/Google Chrome.app/Contents/MacOS/Google Chrome\"\n",
    "chrome_driver_binary = \"./chromedriver\"\n",
    "driver = webdriver.Chrome(chrome_driver_binary, chrome_options=options)\n",
    "print(\"##########driver open##########\")"
   ]
  },
  {
   "cell_type": "code",
   "execution_count": 7,
   "id": "6d0fe2bb-6f88-4983-81e5-c8acc824fe9b",
   "metadata": {},
   "outputs": [],
   "source": [
    "wait = WebDriverWait(driver, 600)"
   ]
  },
  {
   "cell_type": "code",
   "execution_count": 8,
   "id": "f26f7c20-b418-43c5-8021-968af2e900ef",
   "metadata": {},
   "outputs": [],
   "source": [
    "site = \"https://portal.hanyang.ac.kr/sso/lgin.do\"\n",
    "\n",
    "driver.get(url = site)\n",
    "sleep(random.randint(1, 3))"
   ]
  },
  {
   "cell_type": "markdown",
   "id": "fd8fe8f0-87bc-40ab-af22-4e191179b36b",
   "metadata": {},
   "source": [
    "# 로그인"
   ]
  },
  {
   "cell_type": "code",
   "execution_count": 9,
   "id": "f7f36505-ddd0-473e-9880-fcf564d3e392",
   "metadata": {},
   "outputs": [],
   "source": [
    "# 수강신청 사이트와 포탈을 선택하는 창에서 포탈 선택\n",
    "# sugang_select = driver.find_element(By.XPATH, '/html/body/div[4]/table/tbody/tr[1]/td/table/tbody/tr[1]/td[2]/img')\n",
    "# sugang_select.click()\n",
    "\n",
    "\n",
    "# id란에 id 입력\n",
    "id_field = driver.find_element(By.XPATH, '/html/body/div[1]/div[2]/div[1]/form/div/fieldset/p[1]/input')\n",
    "id_field.send_keys(my_id)\n",
    "\n",
    "# pw란에 pw 입력\n",
    "password_field = driver.find_element(By.XPATH, '/html/body/div[1]/div[2]/div[1]/form/div/fieldset/p[2]/input')\n",
    "password_field.send_keys(my_pw)\n",
    "\n",
    "# 로그인 버튼을 클릭\n",
    "login_button = driver.find_element(By.XPATH, '/html/body/div[1]/div[2]/div[1]/form/div/fieldset/p[3]/a')\n",
    "login_button.click()\n",
    "\n",
    "# 비밀번호 다음에 변경\n",
    "pw_change = driver.find_element(By.XPATH, '/html/body/div[1]/div[2]/div/div[3]/span[2]/input')\n",
    "pw_change.click()\n",
    "\n",
    "# 교육창 닫기\n",
    "WebDriverWait(driver, 10).until(EC.alert_is_present())\n",
    "alert = driver.switch_to.alert\n",
    "alert.dismiss()\n",
    "\n",
    "# 공지사항 게시판 들어가기\n",
    "noti_button = driver.find_element(By.XPATH, '/html/body/div[3]/div[2]/div[2]/div[2]/div[2]/div[1]/div[1]/p/a')\n",
    "noti_button.click()"
   ]
  },
  {
   "cell_type": "code",
   "execution_count": null,
   "id": "f8e6ed77-0fd8-485d-a784-1551e7b4bcc9",
   "metadata": {},
   "outputs": [],
   "source": []
  }
 ],
 "metadata": {
  "kernelspec": {
   "display_name": "Python 3 (ipykernel)",
   "language": "python",
   "name": "python3"
  },
  "language_info": {
   "codemirror_mode": {
    "name": "ipython",
    "version": 3
   },
   "file_extension": ".py",
   "mimetype": "text/x-python",
   "name": "python",
   "nbconvert_exporter": "python",
   "pygments_lexer": "ipython3",
   "version": "3.9.13"
  }
 },
 "nbformat": 4,
 "nbformat_minor": 5
}
