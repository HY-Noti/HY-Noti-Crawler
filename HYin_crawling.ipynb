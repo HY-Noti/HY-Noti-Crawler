{
 "cells": [
  {
   "cell_type": "code",
   "execution_count": 1,
   "id": "d636808a-8534-4edd-bed0-671d443029de",
   "metadata": {},
   "outputs": [],
   "source": [
    "import selenium\n",
    "from selenium import webdriver\n",
    "from selenium.webdriver.common.by import By"
   ]
  },
  {
   "cell_type": "code",
   "execution_count": 2,
   "id": "c87971ed-1e8e-4a31-a197-281a7fbd3c53",
   "metadata": {},
   "outputs": [],
   "source": [
    "from time import sleep\n",
    "import random\n",
    "import pandas as pd"
   ]
  },
  {
   "cell_type": "code",
   "execution_count": 3,
   "id": "65c768ae-553b-4b05-aa6e-aeb242b7172b",
   "metadata": {},
   "outputs": [],
   "source": [
    "from selenium.webdriver.common.by import By\n",
    "from selenium.webdriver.support.ui import WebDriverWait\n",
    "from selenium.webdriver.support import expected_conditions as EC"
   ]
  },
  {
   "cell_type": "code",
   "execution_count": 4,
   "id": "4734a34d-56ab-49ec-be88-554c418544ba",
   "metadata": {},
   "outputs": [],
   "source": [
    "from webdriver_manager.chrome import ChromeDriverManager\n",
    "from selenium.webdriver.chrome.service import Service\n",
    "import requests"
   ]
  },
  {
   "cell_type": "code",
   "execution_count": 5,
   "id": "64b3effa-47f9-4010-9ad8-c06feca76848",
   "metadata": {},
   "outputs": [],
   "source": [
    "import yaml\n",
    "\n",
    "with open('secrets.yaml', 'r') as file:\n",
    "    secrets = yaml.safe_load(file)\n",
    "\n",
    "my_id = secrets['my_id']\n",
    "my_pw = secrets['my_pw']"
   ]
  },
  {
   "cell_type": "code",
   "execution_count": 6,
   "id": "534a032e-8e09-450f-b51b-ffa224329f2d",
   "metadata": {},
   "outputs": [
    {
     "name": "stderr",
     "output_type": "stream",
     "text": [
      "/var/folders/rg/mxvp06m56_g09wl1jz84qkhh0000gn/T/ipykernel_90377/699548518.py:6: DeprecationWarning: executable_path has been deprecated, please pass in a Service object\n",
      "  driver = webdriver.Chrome(chrome_driver_binary, chrome_options=options)\n",
      "/var/folders/rg/mxvp06m56_g09wl1jz84qkhh0000gn/T/ipykernel_90377/699548518.py:6: DeprecationWarning: use options instead of chrome_options\n",
      "  driver = webdriver.Chrome(chrome_driver_binary, chrome_options=options)\n"
     ]
    },
    {
     "name": "stdout",
     "output_type": "stream",
     "text": [
      "##########driver open##########\n"
     ]
    }
   ],
   "source": [
    "# 바이너리 오류가 발생할 경우\n",
    "# 크롬 바이너리 경로와 크롬 드라이버 바이너리 경로를 둘다 명시해줘야함\n",
    "options = webdriver.ChromeOptions()\n",
    "options.binary_location = \"/Applications/Google Chrome.app/Contents/MacOS/Google Chrome\"\n",
    "chrome_driver_binary = \"./chromedriver\"\n",
    "driver = webdriver.Chrome(chrome_driver_binary, chrome_options=options)\n",
    "print(\"##########driver open##########\")"
   ]
  },
  {
   "cell_type": "code",
   "execution_count": 7,
   "id": "6d0fe2bb-6f88-4983-81e5-c8acc824fe9b",
   "metadata": {},
   "outputs": [],
   "source": [
    "wait = WebDriverWait(driver, 600)"
   ]
  },
  {
   "cell_type": "code",
   "execution_count": 8,
   "id": "f26f7c20-b418-43c5-8021-968af2e900ef",
   "metadata": {},
   "outputs": [],
   "source": [
    "site = \"https://portal.hanyang.ac.kr/sso/lgin.do\"\n",
    "\n",
    "driver.get(url = site)\n",
    "sleep(random.randint(1, 3))"
   ]
  },
  {
   "cell_type": "markdown",
   "id": "fd8fe8f0-87bc-40ab-af22-4e191179b36b",
   "metadata": {},
   "source": [
    "# 로그인"
   ]
  },
  {
   "cell_type": "code",
   "execution_count": 9,
   "id": "f7f36505-ddd0-473e-9880-fcf564d3e392",
   "metadata": {},
   "outputs": [],
   "source": [
    "# 수강신청 사이트와 포탈을 선택하는 창에서 포탈 선택\n",
    "# sugang_select = driver.find_element(By.XPATH, '/html/body/div[4]/table/tbody/tr[1]/td/table/tbody/tr[1]/td[2]/img')\n",
    "# sugang_select.click()\n",
    "\n",
    "\n",
    "# id란에 id 입력\n",
    "id_field = driver.find_element(By.XPATH, '/html/body/div[1]/div[2]/div[1]/form/div/fieldset/p[1]/input')\n",
    "id_field.send_keys(my_id)\n",
    "\n",
    "# pw란에 pw 입력\n",
    "password_field = driver.find_element(By.XPATH, '/html/body/div[1]/div[2]/div[1]/form/div/fieldset/p[2]/input')\n",
    "password_field.send_keys(my_pw)\n",
    "\n",
    "# 로그인 버튼을 클릭\n",
    "login_button = driver.find_element(By.XPATH, '/html/body/div[1]/div[2]/div[1]/form/div/fieldset/p[3]/a')\n",
    "login_button.click()\n",
    "\n",
    "# 비밀번호 다음에 변경\n",
    "pw_change = driver.find_element(By.XPATH, '/html/body/div[1]/div[2]/div/div[3]/span[2]/input')\n",
    "pw_change.click()\n",
    "\n",
    "# 교육창 닫기\n",
    "WebDriverWait(driver, 10).until(EC.alert_is_present())\n",
    "alert = driver.switch_to.alert\n",
    "alert.dismiss()\n",
    "\n",
    "# 공지사항 게시판 들어가기\n",
    "noti_button = driver.find_element(By.XPATH, '/html/body/div[3]/div[2]/div[2]/div[2]/div[2]/div[1]/div[1]/p/a')\n",
    "noti_button.click()"
   ]
  },
  {
   "cell_type": "code",
   "execution_count": 10,
   "id": "ea5554a8-4cfe-421c-8039-24c58506045a",
   "metadata": {},
   "outputs": [],
   "source": [
    "data = {\n",
    "        '번호': [],\n",
    "        '분류': [],\n",
    "        '등록시간': [],\n",
    "        '작성자' : [],\n",
    "        '제목': [],\n",
    "        '본문': [],\n",
    "        'url': [],\n",
    "        '첨부파일': [],\n",
    "       }"
   ]
  },
  {
   "cell_type": "code",
   "execution_count": 13,
   "id": "f8e6ed77-0fd8-485d-a784-1551e7b4bcc9",
   "metadata": {},
   "outputs": [
    {
     "name": "stdout",
     "output_type": "stream",
     "text": [
      "1번째 페이지 크롤링 시작\n",
      "--------------------------------------------\n",
      "번호 : 전체\n",
      "분류 : 산학연구\n",
      "등록시간 : 2023.08.16\n",
      "작성자 : 연구지원팀 / 임지원\n",
      "제목 : [한국연구재단] 한국연구재단 신규과제 공모 안내\n",
      "본문 : <p><img alt=\".\" border=\"0\" height=\"2401\" src=\"http ~\n",
      "url : https://portal.hanyang.ac.kr/port.do#!UDMwODIwMCRAXiRAXmNvbW0vZ2pzaCRAXk0wMDYyNjMkQF7qs7Xsp4Dsgqztla0kQF5NMDAzNzgxJEBeMGJlMjk1OTM2MjY0MjlkZmMzZjFiNjE4MDQ1YmM4MTcyYjg2ODMyZGYwZDMzM2JjMGY1ZGI0NzE5OWI5MDI4YQ==\n",
      "첨부파일 : 없음\n",
      "--------------------------------------------\n",
      "번호 : 에리카\n",
      "분류 : 취업\n",
      "등록시간 : 2023.08.16\n",
      "작성자 : 커리어개발팀 / 송수진\n",
      "제목 : [커리어개발팀] 2023년 9월 외부전문가 1대1 컨설팅 세부 일정 안내\n",
      "본문 : <p><img alt=\"포스터\" border=\"0\" height=\"1333\" src=\"ht ~\n",
      "url : https://portal.hanyang.ac.kr/port.do#!UDMwODIwMCRAXiRAXmNvbW0vZ2pzaCRAXk0wMDYyNjMkQF7qs7Xsp4Dsgqztla0kQF5NMDAzNzgxJEBeMGJlMjk1OTM2MjY0MjlkZmMzZjFiNjE4MDQ1YmM4MTcyYjg2ODMyZGYwZDMzM2JjMGY1ZGI0NzE5OWI5MDI4YQ==\n",
      "첨부파일 : 없음\n",
      "--------------------------------------------\n",
      "번호 : 에리카\n",
      "분류 : 모집채용\n",
      "등록시간 : 2023.08.16\n",
      "작성자 : 교무팀 / 박성훈\n",
      "제목 : [ERICA 교무팀] 2023-2학기 국가근로장학생 모집 안내\n",
      "본문 : <p style=\"margin-right: 0.0px;margin-left: 0.0px;p ~\n",
      "url : https://portal.hanyang.ac.kr/port.do#!UDMwODIwMCRAXiRAXmNvbW0vZ2pzaCRAXk0wMDYyNjMkQF7qs7Xsp4Dsgqztla0kQF5NMDAzNzgxJEBeMGJlMjk1OTM2MjY0MjlkZmMzZjFiNjE4MDQ1YmM4MTcyYjg2ODMyZGYwZDMzM2JjMGY1ZGI0NzE5OWI5MDI4YQ==\n",
      "첨부파일 : 없음\n",
      "--------------------------------------------\n",
      "번호 : 서울\n",
      "분류 : 모집채용\n",
      "등록시간 : 2023.08.16\n",
      "작성자 : WRITING CENTER / 하지원\n",
      "제목 : [WRITING CENTER] 2023학년도 2학기 대학원생 장학조교 모집 안내 (접수기한연장)\n",
      "본문 :  ~\n",
      "url : https://portal.hanyang.ac.kr/port.do#!UDMwODIwMCRAXiRAXmNvbW0vZ2pzaCRAXk0wMDYyNjMkQF7qs7Xsp4Dsgqztla0kQF5NMDAzNzgxJEBeMGJlMjk1OTM2MjY0MjlkZmMzZjFiNjE4MDQ1YmM4MTcyYjg2ODMyZGYwZDMzM2JjMGY1ZGI0NzE5OWI5MDI4YQ==\n",
      "첨부파일 : 없음\n",
      "--------------------------------------------\n",
      "번호 : 서울\n",
      "분류 : 모집채용\n",
      "등록시간 : 2023.08.16\n",
      "작성자 : 산업융합학부 RC 행정팀 / 이은주\n",
      "제목 : [산업융합학부] 2023학년도 2학기 일반대학원 창업융합학과 연구조교 모집\n",
      "본문 : <p>일반대학원 창업융합학과에서는 2023학년도 2학기 연구조교를 다음과 같이 모집합니다. ~\n",
      "url : https://portal.hanyang.ac.kr/port.do#!UDMwODIwMCRAXiRAXmNvbW0vZ2pzaCRAXk0wMDYyNjMkQF7qs7Xsp4Dsgqztla0kQF5NMDAzNzgxJEBeMGJlMjk1OTM2MjY0MjlkZmMzZjFiNjE4MDQ1YmM4MTcyYjg2ODMyZGYwZDMzM2JjMGY1ZGI0NzE5OWI5MDI4YQ==\n",
      "첨부파일 : 없음\n",
      "--------------------------------------------\n",
      "번호 : 에리카\n",
      "분류 : 산학연구\n",
      "등록시간 : 2023.08.14\n",
      "작성자 : 산학연구기획팀 / 엄희성\n",
      "제목 : [한국연구재단] 2023년 젊은과학자상 선정 계획 안내\n",
      "본문 :  ~\n",
      "url : https://portal.hanyang.ac.kr/port.do#!UDMwODIwMCRAXiRAXmNvbW0vZ2pzaCRAXk0wMDYyNjMkQF7qs7Xsp4Dsgqztla0kQF5NMDAzNzgxJEBeMGJlMjk1OTM2MjY0MjlkZmMzZjFiNjE4MDQ1YmM4MTcyYjg2ODMyZGYwZDMzM2JjMGY1ZGI0NzE5OWI5MDI4YQ==\n",
      "첨부파일 : 없음\n",
      "--------------------------------------------\n"
     ]
    },
    {
     "ename": "IndexError",
     "evalue": "list index out of range",
     "output_type": "error",
     "traceback": [
      "\u001b[0;31m---------------------------------------------------------------------------\u001b[0m",
      "\u001b[0;31mIndexError\u001b[0m                                Traceback (most recent call last)",
      "\u001b[0;32m/var/folders/rg/mxvp06m56_g09wl1jz84qkhh0000gn/T/ipykernel_90377/1449747839.py\u001b[0m in \u001b[0;36m<module>\u001b[0;34m\u001b[0m\n\u001b[1;32m     28\u001b[0m \u001b[0;34m\u001b[0m\u001b[0m\n\u001b[1;32m     29\u001b[0m             \u001b[0;31m# 캠퍼스(번호)\u001b[0m\u001b[0;34m\u001b[0m\u001b[0;34m\u001b[0m\u001b[0m\n\u001b[0;32m---> 30\u001b[0;31m             \u001b[0mcampus\u001b[0m \u001b[0;34m=\u001b[0m \u001b[0mdriver\u001b[0m\u001b[0;34m.\u001b[0m\u001b[0mfind_elements\u001b[0m\u001b[0;34m(\u001b[0m\u001b[0mBy\u001b[0m\u001b[0;34m.\u001b[0m\u001b[0mXPATH\u001b[0m\u001b[0;34m,\u001b[0m \u001b[0;34m\"/html/body/div[3]/div[2]/div[2]/div[2]/div[2]/form/div[2]/div[2]/div/table/tbody/tr[\"\u001b[0m \u001b[0;34m+\u001b[0m \u001b[0mstr\u001b[0m\u001b[0;34m(\u001b[0m\u001b[0mi\u001b[0m\u001b[0;34m+\u001b[0m\u001b[0;36m1\u001b[0m\u001b[0;34m)\u001b[0m \u001b[0;34m+\u001b[0m \u001b[0;34m\"]/td[1]/span[1]\"\u001b[0m\u001b[0;34m)\u001b[0m\u001b[0;34m[\u001b[0m\u001b[0;36m0\u001b[0m\u001b[0;34m]\u001b[0m\u001b[0;34m\u001b[0m\u001b[0;34m\u001b[0m\u001b[0m\n\u001b[0m\u001b[1;32m     31\u001b[0m             \u001b[0mcampus\u001b[0m \u001b[0;34m=\u001b[0m \u001b[0mcampus\u001b[0m\u001b[0;34m.\u001b[0m\u001b[0mtext\u001b[0m\u001b[0;34m\u001b[0m\u001b[0;34m\u001b[0m\u001b[0m\n\u001b[1;32m     32\u001b[0m             \u001b[0;32mif\u001b[0m \u001b[0mcampus\u001b[0m \u001b[0;34m==\u001b[0m \u001b[0;34m'H'\u001b[0m\u001b[0;34m:\u001b[0m\u001b[0;34m\u001b[0m\u001b[0;34m\u001b[0m\u001b[0m\n",
      "\u001b[0;31mIndexError\u001b[0m: list index out of range"
     ]
    }
   ],
   "source": [
    "while True:\n",
    "    \n",
    "    # 첫 페이지만 span[3]/* 이고 나머지 페이지는 span[2]/* 이므로 예외처리\n",
    "    try:\n",
    "        wait = WebDriverWait(driver, 10).until(EC.presence_of_element_located((By.XPATH, \"/html/body/div[3]/div[2]/div[2]/div[2]/div[2]/form/div[2]/div[4]/span/span[3]/*\")))\n",
    "        page_num = driver.find_elements(By.XPATH, \"/html/body/div[3]/div[2]/div[2]/div[2]/div[2]/form/div[2]/div[4]/span/span[3]/*\")\n",
    "    except:\n",
    "        wait = WebDriverWait(driver, 10).until(EC.presence_of_element_located((By.XPATH, \"/html/body/div[3]/div[2]/div[2]/div[2]/div[2]/form/div[2]/div[4]/span/span[2]/*\")))\n",
    "        page_num = driver.find_elements(By.XPATH, \"/html/body/div[3]/div[2]/div[2]/div[2]/div[2]/form/div[2]/div[4]/span/span[2]/*\")\n",
    "    \n",
    "    for j in range(len(page_num)):\n",
    "        page_num[j].click()\n",
    "        print(page_num[j].text + '번째 페이지 크롤링 시작')\n",
    "    \n",
    "        # 마지막 페이지의 콘텐츠 수가 다를 수 있으므로\n",
    "        wait = WebDriverWait(driver, 10).until(EC.presence_of_element_located((By.XPATH, \"/html/body/div[3]/div[2]/div[2]/div[2]/div[2]/form/div[2]/div[2]/div/table/tbody/tr/td[1]\")))\n",
    "        content_num = driver.find_elements(By.XPATH, \"/html/body/div[3]/div[2]/div[2]/div[2]/div[2]/form/div[2]/div[2]/div/table/tbody/tr/td[1]\")\n",
    "\n",
    "        for i in range(len(content_num)):\n",
    "\n",
    "            # 페이지 로드 대기\n",
    "            sleep(random.randint(1, 3))\n",
    "\n",
    "            # stale 오류 때문에 위의 변수를 계속 사용하지 못하고 계속 업데이트 해야함\n",
    "            content_num = driver.find_elements(By.XPATH, \"/html/body/div[3]/div[2]/div[2]/div[2]/div[2]/form/div[2]/div[2]/div/table/tbody/tr/td[1]\")\n",
    "\n",
    "            print(\"--------------------------------------------\")\n",
    "\n",
    "            # 캠퍼스(번호)\n",
    "            campus = driver.find_elements(By.XPATH, \"/html/body/div[3]/div[2]/div[2]/div[2]/div[2]/form/div[2]/div[2]/div/table/tbody/tr[\" + str(i+1) + \"]/td[1]/span[1]\")[0]\n",
    "            campus = campus.text\n",
    "            if campus == 'H':\n",
    "                data['번호'].append('전체')\n",
    "                print('번호 : 전체')\n",
    "            elif campus == 'S':\n",
    "                data['번호'].append('서울')\n",
    "                print('번호 : 서울')\n",
    "            else:\n",
    "                data['번호'].append('에리카')\n",
    "                print('번호 : 에리카')\n",
    "\n",
    "            # 분류\n",
    "            cate = driver.find_elements(By.XPATH, \"/html/body/div[3]/div[2]/div[2]/div[2]/div[2]/form/div[2]/div[2]/div/table/tbody/tr[\" + str(i+1) + \"]/td[1]/span[2]\")[0]\n",
    "            cate = cate.text\n",
    "            data['분류'].append(cate)\n",
    "            print('분류 :', cate)\n",
    "\n",
    "            # 등록시간 수집\n",
    "            upload_time = driver.find_elements(By.XPATH, \"/html/body/div[3]/div[2]/div[2]/div[2]/div[2]/form/div[2]/div[2]/div/table/tbody/tr[\" + str(i+1) + \"]/td[3]\")[0]\n",
    "            upload_time = upload_time.text\n",
    "            # 2023년 이전 자료는 크롤링 하지 않음\n",
    "            if int(upload_time[:4]) < 2023:\n",
    "                break\n",
    "            data['등록시간'].append(upload_time)\n",
    "            print('등록시간 :', upload_time)\n",
    "\n",
    "            # 작성자 수집\n",
    "            writer = driver.find_elements(By.XPATH, \"/html/body/div[3]/div[2]/div[2]/div[2]/div[2]/form/div[2]/div[2]/div/table/tbody/tr[\" + str(i+1) + \"]/td[2]\")[0]\n",
    "            writer = writer.text\n",
    "            data['작성자'].append(writer)\n",
    "            print('작성자 :', writer)\n",
    "\n",
    "            # 제목 수집\n",
    "            title = driver.find_elements(By.XPATH, \"/html/body/div[3]/div[2]/div[2]/div[2]/div[2]/form/div[2]/div[2]/div/table/tbody/tr[\" + str(i+1) + \"]/td[1]/span[3]\")[0]\n",
    "            title = title.text\n",
    "            data['제목'].append(title)\n",
    "            print('제목 :', title)\n",
    "\n",
    "            # 글 클릭\n",
    "            wait = WebDriverWait(driver, 10).until(EC.presence_of_element_located((By.XPATH, \"/html/body/div[3]/div[2]/div[2]/div[2]/div[2]/form/div[2]/div[2]/div/table/tbody/tr[2]/td[1]/span[3]\")))\n",
    "            con_button = driver.find_elements(By.XPATH, \"/html/body/div[3]/div[2]/div[2]/div[2]/div[2]/form/div[2]/div[2]/div/table/tbody/tr[\" + str(i+1) + \"]/td[1]/span[3]\")[0]\n",
    "            con_button.click()\n",
    "\n",
    "            # 본문 수집\n",
    "            main = driver.find_elements(By.XPATH, \"/html/body/div[3]/div[2]/div[2]/div[2]/div[2]/table/tbody/tr[4]/td\")[0]\n",
    "            main = main.get_attribute('innerHTML')\n",
    "            data['본문'].append(main)\n",
    "            print('본문 :', main[:50], '~')\n",
    "\n",
    "            # url 수집\n",
    "            data['url'].append(driver.current_url)\n",
    "            print('url :',driver.current_url)\n",
    "\n",
    "            # 첨부파일 수집\n",
    "            try:\n",
    "                # 현재 한양인의 경우 첨부파일이 html 코드로 노출되어있지 않고, javascript로 동적으로 작동하는 것 같음\n",
    "                # 일단 넘어가고 이에대한 해결방법 찾아야함\n",
    "                empty_list = []\n",
    "                data['첨부파일'].append(empty_list)\n",
    "                print('첨부파일 : 없음')\n",
    "\n",
    "            except:\n",
    "                empty_list = []\n",
    "                data['첨부파일'].append(empty_list)\n",
    "                print('첨부파일 : 없음')\n",
    "\n",
    "            # 목록버튼 클릭\n",
    "            sleep(random.randint(1, 3))\n",
    "            list_button = driver.find_elements(By.XPATH, \"/html/body/div[3]/div[2]/div[2]/div[2]/div[2]/div[1]/span/input\")[0]\n",
    "            list_button.click()\n",
    "            \n",
    "        # 2023년 이전 자료는 크롤링 하지 않음\n",
    "        if int(upload_time[:4]) < 2023:\n",
    "            data['번호'].pop()\n",
    "            data['분류'].pop()\n",
    "            break\n",
    "\n",
    "    next_button = driver.find_elements(By.XPATH, \"/html/body/div[3]/div[2]/div[2]/div[2]/div[2]/form/div[2]/div[4]/span/a[2]/span/img\")[0]\n",
    "    next_button.click()\n",
    "    \n",
    "    # 2023년 이전 자료는 크롤링 하지 않음\n",
    "    if int(upload_time[:4]) < 2023:\n",
    "        data['번호'].pop()\n",
    "        data['분류'].pop()\n",
    "        break\n"
   ]
  },
  {
   "cell_type": "code",
   "execution_count": null,
   "id": "68c612d0-d24b-4f8e-9267-ea872e579a0e",
   "metadata": {},
   "outputs": [],
   "source": []
  },
  {
   "cell_type": "code",
   "execution_count": null,
   "id": "001c2e27-24af-4d6e-907b-09217ca6e5aa",
   "metadata": {},
   "outputs": [],
   "source": []
  },
  {
   "cell_type": "code",
   "execution_count": null,
   "id": "8d1c3f59-03b5-46b1-8ec8-d3e210f1fc7b",
   "metadata": {},
   "outputs": [],
   "source": []
  }
 ],
 "metadata": {
  "kernelspec": {
   "display_name": "Python 3 (ipykernel)",
   "language": "python",
   "name": "python3"
  },
  "language_info": {
   "codemirror_mode": {
    "name": "ipython",
    "version": 3
   },
   "file_extension": ".py",
   "mimetype": "text/x-python",
   "name": "python",
   "nbconvert_exporter": "python",
   "pygments_lexer": "ipython3",
   "version": "3.9.13"
  }
 },
 "nbformat": 4,
 "nbformat_minor": 5
}
