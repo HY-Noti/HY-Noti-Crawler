{
 "cells": [
  {
   "cell_type": "code",
   "execution_count": 1,
   "id": "822acd69-f234-4f53-a3f1-e5541d269690",
   "metadata": {},
   "outputs": [],
   "source": [
    "import selenium\n",
    "from selenium import webdriver\n",
    "from selenium.webdriver.common.by import By"
   ]
  },
  {
   "cell_type": "code",
   "execution_count": 2,
   "id": "4c4aaa88-108b-47ac-91f0-2d4a3d7863cb",
   "metadata": {},
   "outputs": [],
   "source": [
    "from time import sleep\n",
    "import random\n",
    "import pandas as pd"
   ]
  },
  {
   "cell_type": "code",
   "execution_count": 3,
   "id": "8ba100da-3669-4de7-8e79-6f651884082d",
   "metadata": {},
   "outputs": [],
   "source": [
    "from selenium.webdriver.common.by import By\n",
    "from selenium.webdriver.support.ui import WebDriverWait\n",
    "from selenium.webdriver.support import expected_conditions as EC"
   ]
  },
  {
   "cell_type": "code",
   "execution_count": 4,
   "id": "d3782ecd-8fb4-47a0-978d-d58a14ca4a10",
   "metadata": {},
   "outputs": [
    {
     "name": "stdout",
     "output_type": "stream",
     "text": [
      "##########driver open##########\n"
     ]
    }
   ],
   "source": [
    "driver = webdriver.Chrome(executable_path = 'chromedriver')\n",
    "options = webdriver.ChromeOptions()\n",
    "options.add_experimental_option('excludeSwitches', ['enable-logging'])\n",
    "driver = webdriver.Chrome(options = options)\n",
    "print(\"##########driver open##########\")"
   ]
  },
  {
   "cell_type": "code",
   "execution_count": 5,
   "id": "bf40e3a9-afba-40e0-bc66-ec23d3153540",
   "metadata": {},
   "outputs": [],
   "source": [
    "wait = WebDriverWait(driver, 600)"
   ]
  },
  {
   "cell_type": "markdown",
   "id": "645eeff6-7af2-41da-a2c3-b5a4a7284326",
   "metadata": {},
   "source": [
    "# test"
   ]
  },
  {
   "cell_type": "code",
   "execution_count": 19,
   "id": "a82e467c-574f-4a0f-b1ab-b3937f90ea5c",
   "metadata": {},
   "outputs": [
    {
     "name": "stdout",
     "output_type": "stream",
     "text": [
      "현재 페이지의 콘텐츠 수 : 43\n",
      "공지를 제외한 콘텐츠 수 : 23\n",
      "콘텐츠 번호 : 735\n",
      "콘텐츠 번호 : 734\n",
      "콘텐츠 번호 : 733\n",
      "콘텐츠 번호 : 732\n",
      "콘텐츠 번호 : 731\n",
      "콘텐츠 번호 : 730\n",
      "콘텐츠 번호 : 729\n",
      "콘텐츠 번호 : 728\n",
      "콘텐츠 번호 : 727\n",
      "콘텐츠 번호 : 726\n",
      "콘텐츠 번호 : 725\n",
      "콘텐츠 번호 : 724\n",
      "콘텐츠 번호 : 723\n",
      "콘텐츠 번호 : 722\n",
      "콘텐츠 번호 : 721\n",
      "콘텐츠 번호 : 720\n",
      "콘텐츠 번호 : 719\n",
      "콘텐츠 번호 : 718\n",
      "콘텐츠 번호 : 717\n",
      "콘텐츠 번호 : 716\n"
     ]
    }
   ],
   "source": [
    "site = \"http://ie.hanyang.ac.kr/index.php?pg=1&page=list&hCode=BOARD&bo_idx=1&sfl=&stx=\"\n",
    "driver.get(url = site)\n",
    "sleep(random.randint(1, 3))\n",
    "\n",
    "data = {\n",
    "        '번호': [],\n",
    "        '등록시간': [],\n",
    "        '제목': [],\n",
    "        '본문': [],\n",
    "       }\n",
    "\n",
    "\n",
    "# 페이지의 콘텐츠 번호 리스트\n",
    "content_num = driver.find_elements(By.XPATH, \"/html/body/div/div[3]/div[2]/div[2]/div[2]/div[1]/form[2]/table/tbody/tr/td[1]\")\n",
    "print(\"현재 페이지의 콘텐츠 수 :\", len(content_num))\n",
    "\n",
    "# 공지의 수\n",
    "announce_num = 0\n",
    "for i in range(len(content_num)):\n",
    "    if content_num[i].text == \"공지\":\n",
    "        announce_num += 1\n",
    "    else:\n",
    "        break\n",
    "print(\"공지를 제외한 콘텐츠 수 :\", announce_num)\n",
    "\n",
    "# 공지 제외 콘텐츠 번호\n",
    "for i in range(announce_num, 43):\n",
    "    print(\"콘텐츠 번호 :\", content_num[i].text)\n"
   ]
  },
  {
   "cell_type": "markdown",
   "id": "ef98397d-5b2e-461b-b494-5700e5207de8",
   "metadata": {},
   "source": [
    "# practice"
   ]
  },
  {
   "cell_type": "code",
   "execution_count": null,
   "id": "cb0cef41-d593-40db-83fd-374aacf95644",
   "metadata": {},
   "outputs": [],
   "source": [
    "site = \"http://ie.hanyang.ac.kr/index.php?pg=1&page=list&hCode=BOARD&bo_idx=1&sfl=&stx=\"\n",
    "driver.get(url = site)\n",
    "sleep(random.randint(1, 3))\n",
    "\n",
    "data = {\n",
    "        '번호': [],\n",
    "        '등록시간': [],\n",
    "        '제목': [],\n",
    "        '본문': [],\n",
    "       }\n",
    "\n",
    "start = 350 # 수집할 게시물 시작점 (개수기준) ex: 첫번째 게시물부터 수집 -> start = 1\n",
    "count = start-1   # 인덱스(시작지점 -1)\n",
    "\n",
    "## 중앙부처 건수\n",
    "c1_count = driver.find_elements(By.XPATH, \"//*[@id='uuid-ix']/div/div/div\")[0].text\n",
    "print(c1_count, \"건\") \n",
    "\n",
    "next_button = driver.find_elements(By.XPATH, \"/html/body/div[1]/div[1]/div/div[3]/div/div/div/div[3]/div/div/div/div[2]/div/div/div/div[3]/div/div/div/div[3]/div/div/div/div[3]/div/div/div/div/div/div/div/div[5]/div/div/div/div[2]/div/div/div/div[3]/div/div/div\")\n",
    "print(\"다음 버튼수\", len(next_button))\n",
    "\n",
    "while True:\n",
    "    for bu in range(len(next_button)):\n",
    "                                            \n",
    "        element = wait.until(EC.presence_of_element_located((By.XPATH, '/html/body/div[1]/div[1]/div/div[3]/div/div/div/div[3]/div/div/div/div[2]/div/div/div/div[3]/div/div/div/div[3]/div/div/div/div[3]/div/div/div/div/div/div/div/div[3]/div/div/div/div/div/div/div[5]/div')))\n",
    "        element = wait.until(EC.presence_of_element_located((By.XPATH, '/html/body/div[1]/div[1]/div/div[3]/div/div/div/div[3]/div/div/div/div[2]/div/div/div/div[3]/div/div/div/div[3]/div/div/div/div[3]/div/div/div/div/div/div/div/div[5]/div/div/div/div[2]/div/div/div/div[3]/div/div/div')))\n",
    "        c1_list = driver.find_elements(By.XPATH, \"/html/body/div[1]/div[1]/div/div[3]/div/div/div/div[3]/div/div/div/div[2]/div/div/div/div[3]/div/div/div/div[3]/div/div/div/div[3]/div/div/div/div/div/div/div/div[3]/div/div/div/div/div/div/div[5]/div\")\n",
    "        \n",
    "        for c1 in range(len(c1_list)):\n",
    "            # 5페이지씩 넘기는 버튼 클릭하는 부분\n",
    "            next_button_page = driver.find_elements(By.XPATH, \"//*[@id='uuid-8k']/div/div/div/div[4]\")[0]\n",
    "            try:\n",
    "                if count != 0:\n",
    "                    page_count = count//9\n",
    "                    if page_count!=0 & ((page_count)//5 >= 1):\n",
    "                        for i in range(page_count//5):\n",
    "                            next_button_page.click()\n",
    "                            element = wait.until(EC.presence_of_element_located((By.XPATH, '/html/body/div[1]/div[1]/div/div[3]/div/div/div/div[3]/div/div/div/div[2]/div/div/div/div[3]/div/div/div/div[3]/div/div/div/div[3]/div/div/div/div/div/div/div/div[3]/div/div/div/div/div/div/div[5]/div')))\n",
    "                    if count == 370:\n",
    "                        break\n",
    "            except:\n",
    "                break\n",
    "            \n",
    "            # 1페이지씩 넘기는 버튼 클릭하는 부분\n",
    "            element = wait.until(EC.presence_of_element_located((By.XPATH, '/html/body/div[1]/div[1]/div/div[3]/div/div/div/div[3]/div/div/div/div[2]/div/div/div/div[3]/div/div/div/div[3]/div/div/div/div[3]/div/div/div/div/div/div/div/div[3]/div/div/div/div/div/div/div[5]/div')))\n",
    "            element = wait.until(EC.presence_of_element_located((By.XPATH, '/html/body/div[1]/div[1]/div/div[3]/div/div/div/div[3]/div/div/div/div[2]/div/div/div/div[3]/div/div/div/div[3]/div/div/div/div[3]/div/div/div/div/div/div/div/div[5]/div/div/div/div[2]/div/div/div/div[3]/div/div/div')))\n",
    "            \n",
    "            page_num = (count%45)//9\n",
    "            if page_num > 0: \n",
    "                next_button = driver.find_elements(By.XPATH, \"/html/body/div[1]/div[1]/div/div[3]/div/div/div/div[3]/div/div/div/div[2]/div/div/div/div[3]/div/div/div/div[3]/div/div/div/div[3]/div/div/div/div/div/div/div/div[5]/div/div/div/div[2]/div/div/div/div[3]/div/div/div\")\n",
    "                next_button[page_num].click()\n",
    "                \n",
    "            print((count//9)+1, \" page---\")\n",
    "            \n",
    "            # 한 페이지의 콘텐츠 수\n",
    "            \n",
    "            element = wait.until(EC.presence_of_element_located((By.XPATH, '/html/body/div[1]/div[1]/div/div[3]/div/div/div/div[3]/div/div/div/div[2]/div/div/div/div[3]/div/div/div/div[3]/div/div/div/div[3]/div/div/div/div/div/div/div/div[3]/div/div/div/div/div/div/div[5]/div')))\n",
    "            c1_list = driver.find_elements(By.XPATH, \"/html/body/div[1]/div[1]/div/div[3]/div/div/div/div[3]/div/div/div/div[2]/div/div/div/div[3]/div/div/div/div[3]/div/div/div/div[3]/div/div/div/div/div/div/div/div[3]/div/div/div/div/div/div/div[5]/div\")\n",
    "                    \n",
    "            print('이 페이지의 콘텐츠 수는 '+str(len(c1_list))+'개 입니다.')\n",
    "            \n",
    "            # 자세히 클릭\n",
    "            \n",
    "            num = count%9\n",
    "            \n",
    "            \n",
    "            element = wait.until(EC.presence_of_element_located((By.XPATH, '/html/body/div[1]/div[1]/div/div[3]/div/div/div/div[3]/div/div/div/div[2]/div/div/div/div[3]/div/div/div/div[3]/div/div/div/div[3]/div/div/div/div/div/div/div/div[3]/div/div/div/div/div/div/div[5]/div')))\n",
    "            c1_button = c1_list[num].find_elements(By.TAG_NAME, \"a\")\n",
    "            c1_button[0].click()\n",
    "            \n",
    "            print('현재 '+str(count+1)+'번째 콘텐츠 크롤링 중입니다')\n",
    "            # page load wait\n",
    "            element = wait.until(EC.presence_of_element_located((By.XPATH, '/html/body/div[1]/div[1]/div/div[3]/div/div/div/div[3]/div/div/div/div[2]/div/div/div/div[3]/div/div/div/div[3]/div/div/div/div/div/div/div/div[4]/div/div/div/div[2]/div/div/div/div[3]/div/div/div/div[2]/div/div/div')))\n",
    "            \n",
    "            sleep(random.randint(1, 3))\n",
    "            print('--------------------')\n",
    "            \n",
    "            # 콘텐츠의 태그 수집\n",
    "            c1_tag = driver.find_elements(By.XPATH, \"/html/body/div[1]/div[1]/div/div[3]/div/div/div/div[3]/div/div/div/div[2]/div/div/div/div[2]/div/div/div/div[2]/div/div/div/div[2]/div/div/div/div[2]/div/div\")\n",
    "            tag_list = []\n",
    "            for tag in c1_tag:\n",
    "                tag_list.extend(tag.text.split('\\n'))\n",
    "            print(tag_list)\n",
    "            data['태그'].append(tag_list)\n",
    "                \n",
    "            # 복지 서비스 이름 수집\n",
    "            c1_name = driver.find_elements(By.XPATH, '/html/body/div[1]/div[1]/div/div[3]/div/div/div/div[3]/div/div/div/div[2]/div/div/div/div[2]/div/div/div/div[2]/div/div/div/div[3]/div/div/div/div[1]/div/div/div[1]/div/div/div[2]/div/div/div')[0]\n",
    "            c1_name = c1_name.text\n",
    "            print(c1_name)\n",
    "            data['복지서비스이름'].append(c1_name)\n",
    "            \n",
    "            # 서비스 요약 수집\n",
    "            c1_summary = driver.find_elements(By.XPATH, '/html/body/div[1]/div[1]/div/div[3]/div/div/div/div[3]/div/div/div/div[2]/div/div/div/div[2]/div/div/div/div[2]/div/div/div/div[3]/div/div/div/div[1]/div/div/div[1]/div/div/div[3]/div/div/div/div[3]/div/div/div')[0]\n",
    "            c1_summary = c1_summary.text\n",
    "            print(c1_summary)\n",
    "            data['서비스요약'].append(c1_summary)\n",
    "            \n",
    "            # 지원대상 수집\n",
    "            c1_target = driver.find_elements(By.XPATH, '/html/body/div[1]/div[1]/div/div[3]/div/div/div/div[3]/div/div/div/div[2]/div/div/div/div[3]/div/div/div/div[3]/div/div/div/div/div/div/div/div[3]/div/div/div/div[2]/div/div/div/div[2]/div/div/div')[0]\n",
    "            c1_target = c1_target.text\n",
    "            print(c1_target)\n",
    "            data['지원대상'].append(c1_target)\n",
    "            \n",
    "            # 선정기준 수집\n",
    "            c1_criteria = driver.find_elements(By.XPATH, '/html/body/div[1]/div[1]/div/div[3]/div/div/div/div[3]/div/div/div/div[2]/div/div/div/div[3]/div/div/div/div[3]/div/div/div/div/div/div/div/div[4]/div/div/div/div[2]/div/div/div/div[3]/div/div/div/div[2]/div/div/div')[0]\n",
    "            c1_criteria = c1_criteria.text\n",
    "            print(c1_criteria)\n",
    "            data['선정기준'].append(c1_criteria)\n",
    "            \n",
    "            # 서비스 내용 수집\n",
    "            service_button = driver.find_elements(By.XPATH, '/html/body/div[1]/div[1]/div/div[3]/div/div/div/div[3]/div/div/div/div[2]/div/div/div/div[3]/div/div/div/div[2]/div/div/div[1]/div/div[2]/a')[0]\n",
    "            service_button.click()\n",
    "            # page load wait\n",
    "            element = wait.until(EC.presence_of_element_located((By.XPATH, '/html/body/div[1]/div[1]/div/div[3]/div/div/div/div[3]/div/div/div/div[2]/div/div/div/div[3]/div/div/div/div[3]/div/div/div/div[2]/div/div/div/div[2]/div/div/div/div[3]/div/div/div/div[2]/div/div/div')))\n",
    "            c1_service = driver.find_elements(By.XPATH, '/html/body/div[1]/div[1]/div/div[3]/div/div/div/div[3]/div/div/div/div[2]/div/div/div/div[3]/div/div/div/div[3]/div/div/div/div[2]/div/div/div/div[2]/div/div/div/div[3]/div/div/div/div[2]/div/div/div')[0]\n",
    "            c1_service = c1_service.text\n",
    "            print(c1_service)\n",
    "            data['서비스내용'].append(c1_service)\n",
    "            \n",
    "            # 신청 방법 수집\n",
    "            apply_button = driver.find_elements(By.XPATH, '/html/body/div[1]/div[1]/div/div[3]/div/div/div/div[3]/div/div/div/div[2]/div/div/div/div[3]/div/div/div/div[2]/div/div/div[1]/div/div[3]/a')[0]\n",
    "            apply_button.click()\n",
    "            # page load wait\n",
    "            element = wait.until(EC.presence_of_element_located((By.XPATH, '/html/body/div[1]/div[1]/div/div[3]/div/div/div/div[3]/div/div/div/div[2]/div/div/div/div[3]/div/div/div/div[3]/div/div/div/div[3]/div/div/div/div[3]/div/div/div/div[2]/div/div/div/div[2]/div/div/div')))\n",
    "            c1_apply = driver.find_elements(By.XPATH, '/html/body/div[1]/div[1]/div/div[3]/div/div/div/div[3]/div/div/div/div[2]/div/div/div/div[3]/div/div/div/div[3]/div/div/div/div[3]/div/div/div/div[3]/div/div/div/div[2]/div/div/div/div[2]/div/div/div')[0]\n",
    "            c1_apply = c1_apply.text\n",
    "            print(c1_apply)\n",
    "            data['신청방법'].append(c1_apply)\n",
    "\n",
    "            driver.back()\n",
    "            count = count + 1\n",
    "            \n",
    "            # page load wait\n",
    "            element = wait.until(EC.presence_of_element_located((By.XPATH, \"//*[@id='uuid-8k']/div/div/div/div[3]/div/div/div\")))\n",
    "            \n",
    "            sleep(random.randint(1, 3))\n"
   ]
  },
  {
   "cell_type": "code",
   "execution_count": null,
   "id": "fa23d71b-c56e-41ee-930f-97000584ebdd",
   "metadata": {},
   "outputs": [],
   "source": [
    "driver.close()"
   ]
  },
  {
   "cell_type": "code",
   "execution_count": null,
   "id": "7b4621f6-d044-49b2-acb0-f3f5f9e7139a",
   "metadata": {},
   "outputs": [],
   "source": [
    "df = pd.DataFrame(data)\n",
    "\n",
    "print(df)"
   ]
  },
  {
   "cell_type": "code",
   "execution_count": null,
   "id": "4e867796-4c78-47b9-b83b-71075d3f22aa",
   "metadata": {},
   "outputs": [],
   "source": [
    "df.to_csv('output_350to369.csv', index=False)"
   ]
  },
  {
   "cell_type": "code",
   "execution_count": null,
   "id": "c7dd7d94-395f-4309-8bde-fb30274141e7",
   "metadata": {},
   "outputs": [],
   "source": [
    "/html/body/div/div[3]/div[2]/div[2]/div[2]/div[1]/form[2]/table/tbody/tr[1]/td[1]\n",
    "/html/body/div/div[3]/div[2]/div[2]/div[2]/div[1]/form[2]/table/tbody/tr[2]/td[1]\n",
    "/html/body/div/div[3]/div[2]/div[2]/div[2]/div[1]/form[2]/table/tbody/tr[24]/td[1]"
   ]
  },
  {
   "cell_type": "code",
   "execution_count": null,
   "id": "7ca3d678-55b6-4cf9-a747-4d6e79405af0",
   "metadata": {},
   "outputs": [],
   "source": []
  }
 ],
 "metadata": {
  "kernelspec": {
   "display_name": "Python 3 (ipykernel)",
   "language": "python",
   "name": "python3"
  },
  "language_info": {
   "codemirror_mode": {
    "name": "ipython",
    "version": 3
   },
   "file_extension": ".py",
   "mimetype": "text/x-python",
   "name": "python",
   "nbconvert_exporter": "python",
   "pygments_lexer": "ipython3",
   "version": "3.9.13"
  }
 },
 "nbformat": 4,
 "nbformat_minor": 5
}
