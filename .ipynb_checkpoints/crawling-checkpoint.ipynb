{
 "cells": [
  {
   "cell_type": "code",
   "execution_count": 1,
   "id": "822acd69-f234-4f53-a3f1-e5541d269690",
   "metadata": {},
   "outputs": [],
   "source": [
    "import selenium\n",
    "from selenium import webdriver\n",
    "from selenium.webdriver.common.by import By"
   ]
  },
  {
   "cell_type": "code",
   "execution_count": 2,
   "id": "4c4aaa88-108b-47ac-91f0-2d4a3d7863cb",
   "metadata": {},
   "outputs": [],
   "source": [
    "from time import sleep\n",
    "import random\n",
    "import pandas as pd"
   ]
  },
  {
   "cell_type": "code",
   "execution_count": 3,
   "id": "8ba100da-3669-4de7-8e79-6f651884082d",
   "metadata": {},
   "outputs": [],
   "source": [
    "from selenium.webdriver.common.by import By\n",
    "from selenium.webdriver.support.ui import WebDriverWait\n",
    "from selenium.webdriver.support import expected_conditions as EC"
   ]
  },
  {
   "cell_type": "code",
   "execution_count": 4,
   "id": "d3782ecd-8fb4-47a0-978d-d58a14ca4a10",
   "metadata": {},
   "outputs": [
    {
     "name": "stdout",
     "output_type": "stream",
     "text": [
      "##########driver open##########\n"
     ]
    }
   ],
   "source": [
    "driver = webdriver.Chrome(executable_path = 'chromedriver')\n",
    "options = webdriver.ChromeOptions()\n",
    "options.add_experimental_option('excludeSwitches', ['enable-logging'])\n",
    "driver = webdriver.Chrome(options = options)\n",
    "print(\"##########driver open##########\")"
   ]
  },
  {
   "cell_type": "code",
   "execution_count": 5,
   "id": "bf40e3a9-afba-40e0-bc66-ec23d3153540",
   "metadata": {},
   "outputs": [],
   "source": [
    "wait = WebDriverWait(driver, 600)"
   ]
  },
  {
   "cell_type": "code",
   "execution_count": null,
   "id": "cb0cef41-d593-40db-83fd-374aacf95644",
   "metadata": {},
   "outputs": [],
   "source": [
    "site = \"http://ie.hanyang.ac.kr/index.php?pg=1&page=list&hCode=BOARD&bo_idx=1&sfl=&stx=\"\n",
    "driver.get(url = site)\n",
    "sleep(random.randint(1, 3))\n",
    "\n",
    "data = {\n",
    "        '번호': [],\n",
    "        '등록시간': [],\n",
    "        '제목': [],\n",
    "        '본문': [],\n",
    "       }\n",
    "\n",
    "count = 349  # 시작지점 -1 // 예 : 80번째부터 할경우 79 입력\n",
    "\n",
    "## 중앙부처 건수\n",
    "c1_count = driver.find_elements(By.XPATH, \"//*[@id='uuid-ix']/div/div/div\")[0].text\n",
    "print(c1_count, \"건\") \n",
    "\n",
    "next_button = driver.find_elements(By.XPATH, \"/html/body/div[1]/div[1]/div/div[3]/div/div/div/div[3]/div/div/div/div[2]/div/div/div/div[3]/div/div/div/div[3]/div/div/div/div[3]/div/div/div/div/div/div/div/div[5]/div/div/div/div[2]/div/div/div/div[3]/div/div/div\")\n",
    "print(\"다음 버튼수\", len(next_button))\n",
    "\n",
    "while True:\n",
    "    for bu in range(len(next_button)):\n",
    "#         # page load wait\n",
    "#         element = wait.until(EC.presence_of_element_located((By.XPATH, '/html/body/div[1]/div[1]/div/div[3]/div/div/div/div[3]/div/div/div/div[2]/div/div/div/div[3]/div/div/div/div[3]/div/div/div/div[3]/div/div/div/div/div/div/div/div[3]/div/div/div/div/div/div/div[5]/div')))\n",
    "#         element = wait.until(EC.presence_of_element_located((By.XPATH, '/html/body/div[1]/div[1]/div/div[3]/div/div/div/div[3]/div/div/div/div[2]/div/div/div/div[3]/div/div/div/div[3]/div/div/div/div[3]/div/div/div/div/div/div/div/div[5]/div/div/div/div[2]/div/div/div/div[3]/div/div/div')))\n",
    "#         if bu > 0: \n",
    "#             next_button = driver.find_elements(By.XPATH, \"/html/body/div[1]/div[1]/div/div[3]/div/div/div/div[3]/div/div/div/div[2]/div/div/div/div[3]/div/div/div/div[3]/div/div/div/div[3]/div/div/div/div/div/div/div/div[5]/div/div/div/div[2]/div/div/div/div[3]/div/div/div\")\n",
    "#             next_button[bu].click()\n",
    "                                            \n",
    "        element = wait.until(EC.presence_of_element_located((By.XPATH, '/html/body/div[1]/div[1]/div/div[3]/div/div/div/div[3]/div/div/div/div[2]/div/div/div/div[3]/div/div/div/div[3]/div/div/div/div[3]/div/div/div/div/div/div/div/div[3]/div/div/div/div/div/div/div[5]/div')))\n",
    "        element = wait.until(EC.presence_of_element_located((By.XPATH, '/html/body/div[1]/div[1]/div/div[3]/div/div/div/div[3]/div/div/div/div[2]/div/div/div/div[3]/div/div/div/div[3]/div/div/div/div[3]/div/div/div/div/div/div/div/div[5]/div/div/div/div[2]/div/div/div/div[3]/div/div/div')))\n",
    "        c1_list = driver.find_elements(By.XPATH, \"/html/body/div[1]/div[1]/div/div[3]/div/div/div/div[3]/div/div/div/div[2]/div/div/div/div[3]/div/div/div/div[3]/div/div/div/div[3]/div/div/div/div/div/div/div/div[3]/div/div/div/div/div/div/div[5]/div\")\n",
    "        \n",
    "        for c1 in range(len(c1_list)):\n",
    "            # 5페이지씩 넘기는 버튼 클릭하는 부분\n",
    "            next_button_page = driver.find_elements(By.XPATH, \"//*[@id='uuid-8k']/div/div/div/div[4]\")[0]\n",
    "            try:\n",
    "                if count != 0:\n",
    "                    page_count = count//9\n",
    "                    if page_count!=0 & ((page_count)//5 >= 1):\n",
    "                        for i in range(page_count//5):\n",
    "                            next_button_page.click()\n",
    "                            element = wait.until(EC.presence_of_element_located((By.XPATH, '/html/body/div[1]/div[1]/div/div[3]/div/div/div/div[3]/div/div/div/div[2]/div/div/div/div[3]/div/div/div/div[3]/div/div/div/div[3]/div/div/div/div/div/div/div/div[3]/div/div/div/div/div/div/div[5]/div')))\n",
    "                    if count == 370:\n",
    "                        break\n",
    "            except:\n",
    "                break\n",
    "            \n",
    "            # 1페이지씩 넘기는 버튼 클릭하는 부분\n",
    "            element = wait.until(EC.presence_of_element_located((By.XPATH, '/html/body/div[1]/div[1]/div/div[3]/div/div/div/div[3]/div/div/div/div[2]/div/div/div/div[3]/div/div/div/div[3]/div/div/div/div[3]/div/div/div/div/div/div/div/div[3]/div/div/div/div/div/div/div[5]/div')))\n",
    "            element = wait.until(EC.presence_of_element_located((By.XPATH, '/html/body/div[1]/div[1]/div/div[3]/div/div/div/div[3]/div/div/div/div[2]/div/div/div/div[3]/div/div/div/div[3]/div/div/div/div[3]/div/div/div/div/div/div/div/div[5]/div/div/div/div[2]/div/div/div/div[3]/div/div/div')))\n",
    "            \n",
    "            page_num = (count%45)//9\n",
    "            if page_num > 0: \n",
    "                next_button = driver.find_elements(By.XPATH, \"/html/body/div[1]/div[1]/div/div[3]/div/div/div/div[3]/div/div/div/div[2]/div/div/div/div[3]/div/div/div/div[3]/div/div/div/div[3]/div/div/div/div/div/div/div/div[5]/div/div/div/div[2]/div/div/div/div[3]/div/div/div\")\n",
    "                next_button[page_num].click()\n",
    "                \n",
    "            print((count//9)+1, \" page---\")\n",
    "            \n",
    "            # 한 페이지의 콘텐츠 수\n",
    "            \n",
    "            element = wait.until(EC.presence_of_element_located((By.XPATH, '/html/body/div[1]/div[1]/div/div[3]/div/div/div/div[3]/div/div/div/div[2]/div/div/div/div[3]/div/div/div/div[3]/div/div/div/div[3]/div/div/div/div/div/div/div/div[3]/div/div/div/div/div/div/div[5]/div')))\n",
    "            c1_list = driver.find_elements(By.XPATH, \"/html/body/div[1]/div[1]/div/div[3]/div/div/div/div[3]/div/div/div/div[2]/div/div/div/div[3]/div/div/div/div[3]/div/div/div/div[3]/div/div/div/div/div/div/div/div[3]/div/div/div/div/div/div/div[5]/div\")\n",
    "                    \n",
    "            print('이 페이지의 콘텐츠 수는 '+str(len(c1_list))+'개 입니다.')\n",
    "            \n",
    "            # 자세히 클릭\n",
    "            \n",
    "            num = count%9\n",
    "            \n",
    "            \n",
    "            element = wait.until(EC.presence_of_element_located((By.XPATH, '/html/body/div[1]/div[1]/div/div[3]/div/div/div/div[3]/div/div/div/div[2]/div/div/div/div[3]/div/div/div/div[3]/div/div/div/div[3]/div/div/div/div/div/div/div/div[3]/div/div/div/div/div/div/div[5]/div')))\n",
    "            c1_button = c1_list[num].find_elements(By.TAG_NAME, \"a\")\n",
    "            c1_button[0].click()\n",
    "            \n",
    "            print('현재 '+str(count+1)+'번째 콘텐츠 크롤링 중입니다')\n",
    "            # page load wait\n",
    "            element = wait.until(EC.presence_of_element_located((By.XPATH, '/html/body/div[1]/div[1]/div/div[3]/div/div/div/div[3]/div/div/div/div[2]/div/div/div/div[3]/div/div/div/div[3]/div/div/div/div/div/div/div/div[4]/div/div/div/div[2]/div/div/div/div[3]/div/div/div/div[2]/div/div/div')))\n",
    "            \n",
    "            sleep(random.randint(1, 3))\n",
    "            print('--------------------')\n",
    "            \n",
    "            # 콘텐츠의 태그 수집\n",
    "            c1_tag = driver.find_elements(By.XPATH, \"/html/body/div[1]/div[1]/div/div[3]/div/div/div/div[3]/div/div/div/div[2]/div/div/div/div[2]/div/div/div/div[2]/div/div/div/div[2]/div/div/div/div[2]/div/div\")\n",
    "            tag_list = []\n",
    "            for tag in c1_tag:\n",
    "                tag_list.extend(tag.text.split('\\n'))\n",
    "            print(tag_list)\n",
    "            data['태그'].append(tag_list)\n",
    "                \n",
    "            # 복지 서비스 이름 수집\n",
    "            c1_name = driver.find_elements(By.XPATH, '/html/body/div[1]/div[1]/div/div[3]/div/div/div/div[3]/div/div/div/div[2]/div/div/div/div[2]/div/div/div/div[2]/div/div/div/div[3]/div/div/div/div[1]/div/div/div[1]/div/div/div[2]/div/div/div')[0]\n",
    "            c1_name = c1_name.text\n",
    "            print(c1_name)\n",
    "            data['복지서비스이름'].append(c1_name)\n",
    "            \n",
    "            # 서비스 요약 수집\n",
    "            c1_summary = driver.find_elements(By.XPATH, '/html/body/div[1]/div[1]/div/div[3]/div/div/div/div[3]/div/div/div/div[2]/div/div/div/div[2]/div/div/div/div[2]/div/div/div/div[3]/div/div/div/div[1]/div/div/div[1]/div/div/div[3]/div/div/div/div[3]/div/div/div')[0]\n",
    "            c1_summary = c1_summary.text\n",
    "            print(c1_summary)\n",
    "            data['서비스요약'].append(c1_summary)\n",
    "            \n",
    "            # 지원대상 수집\n",
    "            c1_target = driver.find_elements(By.XPATH, '/html/body/div[1]/div[1]/div/div[3]/div/div/div/div[3]/div/div/div/div[2]/div/div/div/div[3]/div/div/div/div[3]/div/div/div/div/div/div/div/div[3]/div/div/div/div[2]/div/div/div/div[2]/div/div/div')[0]\n",
    "            c1_target = c1_target.text\n",
    "            print(c1_target)\n",
    "            data['지원대상'].append(c1_target)\n",
    "            \n",
    "            # 선정기준 수집\n",
    "            c1_criteria = driver.find_elements(By.XPATH, '/html/body/div[1]/div[1]/div/div[3]/div/div/div/div[3]/div/div/div/div[2]/div/div/div/div[3]/div/div/div/div[3]/div/div/div/div/div/div/div/div[4]/div/div/div/div[2]/div/div/div/div[3]/div/div/div/div[2]/div/div/div')[0]\n",
    "            c1_criteria = c1_criteria.text\n",
    "            print(c1_criteria)\n",
    "            data['선정기준'].append(c1_criteria)\n",
    "            \n",
    "            # 서비스 내용 수집\n",
    "            service_button = driver.find_elements(By.XPATH, '/html/body/div[1]/div[1]/div/div[3]/div/div/div/div[3]/div/div/div/div[2]/div/div/div/div[3]/div/div/div/div[2]/div/div/div[1]/div/div[2]/a')[0]\n",
    "            service_button.click()\n",
    "            # page load wait\n",
    "            element = wait.until(EC.presence_of_element_located((By.XPATH, '/html/body/div[1]/div[1]/div/div[3]/div/div/div/div[3]/div/div/div/div[2]/div/div/div/div[3]/div/div/div/div[3]/div/div/div/div[2]/div/div/div/div[2]/div/div/div/div[3]/div/div/div/div[2]/div/div/div')))\n",
    "            c1_service = driver.find_elements(By.XPATH, '/html/body/div[1]/div[1]/div/div[3]/div/div/div/div[3]/div/div/div/div[2]/div/div/div/div[3]/div/div/div/div[3]/div/div/div/div[2]/div/div/div/div[2]/div/div/div/div[3]/div/div/div/div[2]/div/div/div')[0]\n",
    "            c1_service = c1_service.text\n",
    "            print(c1_service)\n",
    "            data['서비스내용'].append(c1_service)\n",
    "            \n",
    "            # 신청 방법 수집\n",
    "            apply_button = driver.find_elements(By.XPATH, '/html/body/div[1]/div[1]/div/div[3]/div/div/div/div[3]/div/div/div/div[2]/div/div/div/div[3]/div/div/div/div[2]/div/div/div[1]/div/div[3]/a')[0]\n",
    "            apply_button.click()\n",
    "            # page load wait\n",
    "            element = wait.until(EC.presence_of_element_located((By.XPATH, '/html/body/div[1]/div[1]/div/div[3]/div/div/div/div[3]/div/div/div/div[2]/div/div/div/div[3]/div/div/div/div[3]/div/div/div/div[3]/div/div/div/div[3]/div/div/div/div[2]/div/div/div/div[2]/div/div/div')))\n",
    "            c1_apply = driver.find_elements(By.XPATH, '/html/body/div[1]/div[1]/div/div[3]/div/div/div/div[3]/div/div/div/div[2]/div/div/div/div[3]/div/div/div/div[3]/div/div/div/div[3]/div/div/div/div[3]/div/div/div/div[2]/div/div/div/div[2]/div/div/div')[0]\n",
    "            c1_apply = c1_apply.text\n",
    "            print(c1_apply)\n",
    "            data['신청방법'].append(c1_apply)\n",
    "\n",
    "            driver.back()\n",
    "            count = count + 1\n",
    "            \n",
    "            # page load wait\n",
    "            element = wait.until(EC.presence_of_element_located((By.XPATH, \"//*[@id='uuid-8k']/div/div/div/div[3]/div/div/div\")))\n",
    "            \n",
    "            sleep(random.randint(1, 3))\n",
    "\n",
    "#             next_button_page = driver.find_elements(By.XPATH, \"//*[@id='uuid-8k']/div/div/div/div[4]\")[0]\n",
    "#             try:\n",
    "#                 page_count = count//9\n",
    "#                 if page_count!=0 & ((page_count)//5 >= 1):\n",
    "#                     for i in range(page_count//5):\n",
    "#                         next_button_page.click()\n",
    "#                         element = wait.until(EC.presence_of_element_located((By.XPATH, '/html/body/div[1]/div[1]/div/div[3]/div/div/div/div[3]/div/div/div/div[2]/div/div/div/div[3]/div/div/div/div[3]/div/div/div/div[3]/div/div/div/div/div/div/div/div[3]/div/div/div/div/div/div/div[5]/div')))\n",
    "#                 if count == 369:\n",
    "#                     break\n",
    "#             except:\n",
    "#                 break\n",
    "            \n"
   ]
  },
  {
   "cell_type": "code",
   "execution_count": null,
   "id": "fa23d71b-c56e-41ee-930f-97000584ebdd",
   "metadata": {},
   "outputs": [],
   "source": [
    "driver.close()"
   ]
  },
  {
   "cell_type": "code",
   "execution_count": null,
   "id": "7b4621f6-d044-49b2-acb0-f3f5f9e7139a",
   "metadata": {},
   "outputs": [],
   "source": [
    "df = pd.DataFrame(data)\n",
    "\n",
    "print(df)"
   ]
  },
  {
   "cell_type": "code",
   "execution_count": null,
   "id": "4e867796-4c78-47b9-b83b-71075d3f22aa",
   "metadata": {},
   "outputs": [],
   "source": [
    "df.to_csv('output_350to369.csv', index=False)"
   ]
  },
  {
   "cell_type": "code",
   "execution_count": null,
   "id": "86306029-6c76-4eb1-be8a-946eb38bf8ac",
   "metadata": {},
   "outputs": [],
   "source": [
    "import glob"
   ]
  },
  {
   "cell_type": "code",
   "execution_count": null,
   "id": "5ec67ff6-7c32-42d2-9a87-21b2a55f8f85",
   "metadata": {},
   "outputs": [],
   "source": [
    "csv_dir = \"/Users/sonhunseo/Desktop/Project/HYnoti\""
   ]
  },
  {
   "cell_type": "code",
   "execution_count": null,
   "id": "3ff52706-8ee6-46bf-8b40-cef071f1f194",
   "metadata": {},
   "outputs": [],
   "source": [
    "csv_files = glob.glob(csv_dir + \"*.csv\")"
   ]
  },
  {
   "cell_type": "code",
   "execution_count": null,
   "id": "c97401d8-b7b0-4fdf-8fbe-8915a65aafeb",
   "metadata": {},
   "outputs": [],
   "source": [
    "merged_df = pd.DataFrame()"
   ]
  },
  {
   "cell_type": "code",
   "execution_count": null,
   "id": "e3385ebe-df0c-4947-a4c7-7dfda3fc3760",
   "metadata": {},
   "outputs": [],
   "source": [
    "for file in csv_files:\n",
    "    df = pd.read_csv(file)\n",
    "    merged_df = pd.concat([merged_df, df])"
   ]
  },
  {
   "cell_type": "code",
   "execution_count": null,
   "id": "4727799e-1c78-45d8-b76d-a616bd3d6144",
   "metadata": {},
   "outputs": [],
   "source": [
    "merged_df.to_csv(\"merged.csv\", index=False)"
   ]
  },
  {
   "cell_type": "code",
   "execution_count": null,
   "id": "c7dd7d94-395f-4309-8bde-fb30274141e7",
   "metadata": {},
   "outputs": [],
   "source": []
  }
 ],
 "metadata": {
  "kernelspec": {
   "display_name": "Python 3 (ipykernel)",
   "language": "python",
   "name": "python3"
  },
  "language_info": {
   "codemirror_mode": {
    "name": "ipython",
    "version": 3
   },
   "file_extension": ".py",
   "mimetype": "text/x-python",
   "name": "python",
   "nbconvert_exporter": "python",
   "pygments_lexer": "ipython3",
   "version": "3.9.13"
  }
 },
 "nbformat": 4,
 "nbformat_minor": 5
}
