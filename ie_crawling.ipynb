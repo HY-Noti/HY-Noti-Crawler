{
 "cells": [
  {
   "cell_type": "code",
   "execution_count": 51,
   "id": "822acd69-f234-4f53-a3f1-e5541d269690",
   "metadata": {},
   "outputs": [],
   "source": [
    "import selenium\n",
    "from selenium import webdriver\n",
    "from selenium.webdriver.common.by import By"
   ]
  },
  {
   "cell_type": "code",
   "execution_count": 52,
   "id": "4c4aaa88-108b-47ac-91f0-2d4a3d7863cb",
   "metadata": {},
   "outputs": [],
   "source": [
    "from time import sleep\n",
    "import random\n",
    "import pandas as pd"
   ]
  },
  {
   "cell_type": "code",
   "execution_count": 53,
   "id": "8ba100da-3669-4de7-8e79-6f651884082d",
   "metadata": {},
   "outputs": [],
   "source": [
    "from selenium.webdriver.common.by import By\n",
    "from selenium.webdriver.support.ui import WebDriverWait\n",
    "from selenium.webdriver.support import expected_conditions as EC"
   ]
  },
  {
   "cell_type": "code",
   "execution_count": 54,
   "id": "da54e28e-0a91-40a0-bbb3-76d861533708",
   "metadata": {},
   "outputs": [],
   "source": [
    "from webdriver_manager.chrome import ChromeDriverManager\n",
    "from selenium.webdriver.chrome.service import Service\n",
    "import requests"
   ]
  },
  {
   "cell_type": "code",
   "execution_count": 55,
   "id": "d3782ecd-8fb4-47a0-978d-d58a14ca4a10",
   "metadata": {},
   "outputs": [
    {
     "name": "stderr",
     "output_type": "stream",
     "text": [
      "/var/folders/rg/mxvp06m56_g09wl1jz84qkhh0000gn/T/ipykernel_17337/699548518.py:6: DeprecationWarning: executable_path has been deprecated, please pass in a Service object\n",
      "  driver = webdriver.Chrome(chrome_driver_binary, chrome_options=options)\n",
      "/var/folders/rg/mxvp06m56_g09wl1jz84qkhh0000gn/T/ipykernel_17337/699548518.py:6: DeprecationWarning: use options instead of chrome_options\n",
      "  driver = webdriver.Chrome(chrome_driver_binary, chrome_options=options)\n"
     ]
    },
    {
     "name": "stdout",
     "output_type": "stream",
     "text": [
      "##########driver open##########\n"
     ]
    }
   ],
   "source": [
    "# 바이너리 오류가 발생할 경우\n",
    "# 크롬 바이너리 경로와 크롬 드라이버 바이너리 경로를 둘다 명시해줘야함\n",
    "options = webdriver.ChromeOptions()\n",
    "options.binary_location = \"/Applications/Google Chrome.app/Contents/MacOS/Google Chrome\"\n",
    "chrome_driver_binary = \"./chromedriver\"\n",
    "driver = webdriver.Chrome(chrome_driver_binary, chrome_options=options)\n",
    "print(\"##########driver open##########\")"
   ]
  },
  {
   "cell_type": "code",
   "execution_count": 56,
   "id": "bf40e3a9-afba-40e0-bc66-ec23d3153540",
   "metadata": {},
   "outputs": [],
   "source": [
    "wait = WebDriverWait(driver, 600)"
   ]
  },
  {
   "cell_type": "markdown",
   "id": "645eeff6-7af2-41da-a2c3-b5a4a7284326",
   "metadata": {},
   "source": [
    "# 크롤링"
   ]
  },
  {
   "cell_type": "markdown",
   "id": "132e3d50-99bf-4304-a4e8-a579397a7a5d",
   "metadata": {},
   "source": [
    "## url 접속 및 df 열 정의"
   ]
  },
  {
   "cell_type": "code",
   "execution_count": 57,
   "id": "5f5a1e2b-82e1-43ad-90de-aa5fd82a76a7",
   "metadata": {},
   "outputs": [],
   "source": [
    "site = \"http://ie.hanyang.ac.kr/index.php?pg=1&page=list&hCode=BOARD&bo_idx=1&sfl=&stx=\"\n",
    "\n",
    "driver.get(url = site)\n",
    "sleep(random.randint(1, 3))\n",
    "\n",
    "data = {\n",
    "        '번호': [],\n",
    "        '분류': [],\n",
    "        '등록시간': [],\n",
    "        '제목': [],\n",
    "        '본문': [],\n",
    "        'url': [],\n",
    "       }"
   ]
  },
  {
   "cell_type": "markdown",
   "id": "70542953-4136-43ba-ba1f-cacbf03baed0",
   "metadata": {},
   "source": [
    "## 공지 수 \n",
    "## 한 페이지의 최대 콘텐츠 수\n",
    "## 총 콘텐츠 수"
   ]
  },
  {
   "cell_type": "code",
   "execution_count": 58,
   "id": "a82e467c-574f-4a0f-b1ab-b3937f90ea5c",
   "metadata": {},
   "outputs": [
    {
     "name": "stdout",
     "output_type": "stream",
     "text": [
      "첫 페이지의 콘텐츠 수 : 41\n",
      "공지의 개수 : 21\n",
      "한 페이지의 공지를 제외한 최대 콘텐츠의 개수: 20\n",
      "공지를 제외한 총 콘텐츠의 개수 : 738\n"
     ]
    }
   ],
   "source": [
    "# 페이지의 콘텐츠 번호 리스트\n",
    "content_num = driver.find_elements(By.XPATH, \"/html/body/div/div[3]/div[2]/div[2]/div[2]/div[1]/form[2]/table/tbody/tr/td[1]\")\n",
    "print(\"첫 페이지의 콘텐츠 수 :\", len(content_num))\n",
    "\n",
    "# 공지의 수\n",
    "announce_num = 0\n",
    "for i in range(len(content_num)):\n",
    "    if content_num[i].text == \"공지\":\n",
    "        announce_num += 1\n",
    "    else:\n",
    "        break\n",
    "print(\"공지의 개수 :\", announce_num)\n",
    "\n",
    "max_content_num = len(content_num)-announce_num\n",
    "print(\"한 페이지의 공지를 제외한 최대 콘텐츠의 개수:\", max_content_num)\n",
    "\n",
    "# 총 콘텐츠의 수\n",
    "num_of_content = content_num[announce_num].text\n",
    "print(\"공지를 제외한 총 콘텐츠의 개수 :\", num_of_content)"
   ]
  },
  {
   "cell_type": "markdown",
   "id": "25251be5-1276-45ec-b3dd-989f733bba13",
   "metadata": {
    "tags": []
   },
   "source": [
    "## 공지 크롤링"
   ]
  },
  {
   "cell_type": "markdown",
   "id": "d9ca4216-a153-42e3-b41d-13b7111bb40f",
   "metadata": {},
   "source": [
    "- 콘텐츠 크롤링과 함께 묶지 않은 이유 : 그렇게 할 경우 매 페이지마다 공지를 중복으로 크롤링함"
   ]
  },
  {
   "cell_type": "code",
   "execution_count": 60,
   "id": "f7130fea-8b8d-4608-a684-a74162aa9f3a",
   "metadata": {
    "scrolled": true,
    "tags": []
   },
   "outputs": [
    {
     "name": "stdout",
     "output_type": "stream",
     "text": [
      "--------------------------------------------\n",
      "번호 : 공지\n",
      "학과 : 산업공학과\n",
      "등록시간 : 2023-08-03 13:03:52\n",
      "제목 : [학부]음악대학 마이크로전공 신설 및 모집 안내\n",
      "본문 : ['']\n",
      "url : http://ie.hanyang.ac.kr/index.php?page=view&pg=1&idx=2044&hCode=BOARD&bo_idx=1&sfl=&stx=\n",
      "--------------------------------------------\n",
      "번호 : 공지\n",
      "학과 : 산업공학과\n",
      "등록시간 : 2023-07-26 12:20:14\n",
      "제목 : [학부]2023학년도 2학기 군 e-러닝 과정 안내\n",
      "본문 : ['* 한양대학교(서울/ERICA) 군 e-러닝 과정 주요 내용', '  ', '구분', '내용', '대상', '재학 중 휴학계 제출 후 입대한 학생(군 복무자)', '   - 국방부 소속 병사(현역 병사, 상근예비역)', '   - 병무청 소속 사회복무요원', '※비고 : 2023년 10월 4일 이전 제대자 및 복학신청자는 수강불가', '학점인정 범위 및 기준', '한 학기당 최대 6학점, 군 복무중 최대 9학점 이수가능', '수강기간', '정규학기(1학기, 2학기)', '수강신청 및 수강료 납부', '나라사랑 포털(www.narasarang.or.kr)로 학습자 직접 신청 및 납부', '※2학기 수강신청 기간 : 2023.08.21.(월) 18:00 ~ 2023.09.24.(일)', '수강 LMS', 'm.selc.or.kr', '비고', '소속기관(국방부, 병무청)에서 수강료 80% + 수수료 11,000원 지원(문의 : 나라사랑포털 1522-0770)', ' ', '구분', '내용', '대상', '● 재학 중 휴학계 제출 후 입대한 학생(군 복무자)', '   - 국방부 소속 병사(현역 병사, 상근예비역)', '   - 병무청 소속 사회복무요원', '※비고 : 2023년 10월 4일 이전 제대자 및 복학신청자는 수강불가', '학점인정 범위 및 기준', '● 한 학기당 최대 6학점, 군 복무중 최대 9학점 이수가능', '수강기간', '● 정규학기(1학기, 2학기)', '수강신청 및 수강료 납부', '● 나라사랑 포털(www.narasarang.or.kr)로 학습자 직접 신청 및 납부', '※2학기 수강신청 기간 : 2023.08.21.(월) 18:00 ~ 2023.09.24.(일)', '수강 LMS', '● m.selc.or.kr', '비고', '● 소속기관(국방부, 병무청)에서 수강료 80% + 수수료 11,000원 지원(문의 : 나라사랑포털 1522-0770)', ' ', ' ', ' ', ' ', '* 한양대학교(서울/ERICA) 군 e-러닝 과정 주요 내용', '', '구분\\n내용\\n대상\\n● 재학 중 휴학계 제출 후 입대한 학생(군 복무자)\\n   - 국방부 소속 병사(현역 병사, 상근예비역)\\n   - 병무청 소속 사회복무요원\\n※비고 : 2023년 10월 4일 이전 제대자 및 복학신청자는 수강불가\\n학점인정 범위 및 기준\\n● 한 학기당 최대 6학점, 군 복무중 최대 9학점 이수가능\\n수강기간\\n● 정규학기(1학기, 2학기)\\n수강신청 및 수강료 납부\\n● 나라사랑 포털(www.narasarang.or.kr)로 학습자 직접 신청 및 납부\\n※2학기 수강신청 기간 : 2023.08.21.(월) 18:00 ~ 2023.09.24.(일)\\n수강 LMS\\n● m.selc.or.kr\\n비고\\n● 소속기관(국방부, 병무청)에서 수강료 80% + 수수료 11,000원 지원(문의 : 나라사랑포털 1522-0770)']\n",
      "url : http://ie.hanyang.ac.kr/index.php?page=view&pg=1&idx=2034&hCode=BOARD&bo_idx=1&sfl=&stx=\n",
      "--------------------------------------------\n",
      "번호 : 공지\n",
      "학과 : 산업공학과\n",
      "등록시간 : 2023-07-26 12:07:16\n",
      "제목 : 2023학년도 2학기 및 (연계)겨울학기 현장실습 운영 안내\n",
      "본문 : ['']\n",
      "url : http://ie.hanyang.ac.kr/index.php?page=view&pg=1&idx=2033&hCode=BOARD&bo_idx=1&sfl=&stx=\n",
      "--------------------------------------------\n",
      "번호 : 공지\n",
      "학과 : 산업공학과\n",
      "등록시간 : 2023-07-25 13:50:06\n",
      "제목 : 2023학년도 2학기 재학생 등록안내\n",
      "본문 : ['']\n",
      "url : http://ie.hanyang.ac.kr/index.php?page=view&pg=1&idx=2032&hCode=BOARD&bo_idx=1&sfl=&stx=\n",
      "--------------------------------------------\n",
      "번호 : 공지\n",
      "학과 : 산업공학과\n",
      "등록시간 : 2023-07-24 13:18:48\n",
      "제목 : 2023학년도 2학기 사회봉사교과목 수강신청 및 운영계획 안내\n",
      "본문 : ['']\n",
      "url : http://ie.hanyang.ac.kr/index.php?page=view&pg=1&idx=2023&hCode=BOARD&bo_idx=1&sfl=&stx=\n"
     ]
    },
    {
     "ename": "KeyboardInterrupt",
     "evalue": "",
     "output_type": "error",
     "traceback": [
      "\u001b[0;31m---------------------------------------------------------------------------\u001b[0m",
      "\u001b[0;31mKeyboardInterrupt\u001b[0m                         Traceback (most recent call last)",
      "\u001b[0;32m/var/folders/rg/mxvp06m56_g09wl1jz84qkhh0000gn/T/ipykernel_17337/3942679748.py\u001b[0m in \u001b[0;36m<module>\u001b[0;34m\u001b[0m\n\u001b[1;32m      2\u001b[0m \u001b[0;34m\u001b[0m\u001b[0m\n\u001b[1;32m      3\u001b[0m     \u001b[0;31m# 페이지 로드 대기\u001b[0m\u001b[0;34m\u001b[0m\u001b[0;34m\u001b[0m\u001b[0m\n\u001b[0;32m----> 4\u001b[0;31m     \u001b[0msleep\u001b[0m\u001b[0;34m(\u001b[0m\u001b[0mrandom\u001b[0m\u001b[0;34m.\u001b[0m\u001b[0mrandint\u001b[0m\u001b[0;34m(\u001b[0m\u001b[0;36m1\u001b[0m\u001b[0;34m,\u001b[0m \u001b[0;36m3\u001b[0m\u001b[0;34m)\u001b[0m\u001b[0;34m)\u001b[0m\u001b[0;34m\u001b[0m\u001b[0;34m\u001b[0m\u001b[0m\n\u001b[0m\u001b[1;32m      5\u001b[0m \u001b[0;34m\u001b[0m\u001b[0m\n\u001b[1;32m      6\u001b[0m     \u001b[0;31m# stale 오류 때문에 위의 변수를 계속 사용하지 못하고 계속 업데이트 해야함\u001b[0m\u001b[0;34m\u001b[0m\u001b[0;34m\u001b[0m\u001b[0m\n",
      "\u001b[0;31mKeyboardInterrupt\u001b[0m: "
     ]
    }
   ],
   "source": [
    "for i in range(len(content_num)):\n",
    "    \n",
    "    # 페이지 로드 대기\n",
    "    sleep(random.randint(1, 3))\n",
    "    \n",
    "    # stale 오류 때문에 위의 변수를 계속 사용하지 못하고 계속 업데이트 해야함\n",
    "    content_num = driver.find_elements(By.XPATH, \"/html/body/div/div[3]/div[2]/div[2]/div[2]/div[1]/form[2]/table/tbody/tr/td[1]\")\n",
    "    \n",
    "    if content_num[i].text == \"공지\":\n",
    "        print(\"--------------------------------------------\")\n",
    "        \n",
    "        data['번호'].append(\"공지\")\n",
    "        print('번호 :', \"공지\")\n",
    "        data['분류'].append(\"산업공학과\")\n",
    "        print('분류 :', \"산업공학과\")\n",
    "        \n",
    "        # 글 클릭\n",
    "        con_button = driver.find_elements(By.XPATH, \"/html/body/div/div[3]/div[2]/div[2]/div[2]/div[1]/form[2]/table/tbody/tr[\" + str(i+1) + \"]/td[2]/a\")[0]\n",
    "        con_button.click()\n",
    "        \n",
    "        # 등록시간 수집\n",
    "        upload_time = driver.find_elements(By.XPATH, \"/html/body/div/div[3]/div[2]/div[2]/div[2]/table/thead/tr[2]/td/ul/li[5]\")[0]\n",
    "        upload_time = upload_time.text\n",
    "        data['등록시간'].append(upload_time)\n",
    "        print('등록시간 :', upload_time)\n",
    "        \n",
    "        # 제목 수집\n",
    "        title = driver.find_elements(By.XPATH, \"/html/body/div/div[3]/div[2]/div[2]/div[2]/table/thead/tr[1]/th\")[0]\n",
    "        title = title.text\n",
    "        data['제목'].append(title)\n",
    "        print('제목 :', title)\n",
    "\n",
    "        # 본문 수집\n",
    "        main = driver.find_elements(By.XPATH, \"/html/body/div/div[3]/div[2]/div[2]/div[2]/table/tbody/tr/td\")[0]\n",
    "        main = main.get_attribute('innerHTML')\n",
    "        data['본문'].append(main)\n",
    "        print('본문 :', main[:20], '~')\n",
    "        \n",
    "        # url 수집\n",
    "        data['url'].append(driver.current_url)\n",
    "        print('url :',driver.current_url)\n",
    "        \n",
    "        # 뒤로가기\n",
    "        driver.back()\n",
    "    else:\n",
    "        break\n",
    "        "
   ]
  },
  {
   "cell_type": "markdown",
   "id": "5e8c6bd9-3c7f-42ac-92bc-3155bd9534b0",
   "metadata": {},
   "source": [
    "## 공지 제외 콘텐츠 크롤링"
   ]
  },
  {
   "cell_type": "code",
   "execution_count": 49,
   "id": "92165287-dd9a-40d5-a426-febb0e374063",
   "metadata": {
    "scrolled": true,
    "tags": []
   },
   "outputs": [
    {
     "name": "stdout",
     "output_type": "stream",
     "text": [
      "--------------------------------------------\n",
      "번호 : 738\n",
      "학과 : 산업공학과\n",
      "등록시간 : 2023-07-24 12:42:15\n",
      "제목 : [학부]2022학년도 후기 학위수여식 공로상 대상자 신청 안내\n",
      "본문 : []\n",
      "url : http://ie.hanyang.ac.kr/index.php?page=view&pg=1&idx=2020&hCode=BOARD&bo_idx=1&sfl=&stx=\n",
      "--------------------------------------------\n",
      "번호 : 737\n",
      "학과 : 산업공학과\n",
      "등록시간 : 2023-06-22 06:52:43\n",
      "제목 : 2023년 8월 졸업예정자의「학사학위취득유예」및「다전공포기」신청 안내\n",
      "본문 : []\n",
      "url : http://ie.hanyang.ac.kr/index.php?page=view&pg=1&idx=1993&hCode=BOARD&bo_idx=1&sfl=&stx=\n",
      "--------------------------------------------\n",
      "번호 : 736\n",
      "학과 : 산업공학과\n",
      "등록시간 : 2023-06-15 11:47:47\n",
      "제목 : 2023학년도 2학기 학생생활관 정규입사 모집일정 안내\n",
      "본문 : []\n",
      "url : http://ie.hanyang.ac.kr/index.php?page=view&pg=1&idx=1987&hCode=BOARD&bo_idx=1&sfl=&stx=\n",
      "--------------------------------------------\n",
      "번호 : 735\n",
      "학과 : 산업공학과\n",
      "등록시간 : 2023-06-13 10:52:35\n",
      "제목 : 2023학년도 IC-PBL글로벌 프론티어 모집 안내\n",
      "본문 : []\n",
      "url : http://ie.hanyang.ac.kr/index.php?page=view&pg=1&idx=1981&hCode=BOARD&bo_idx=1&sfl=&stx=\n",
      "--------------------------------------------\n",
      "번호 : 734\n",
      "학과 : 산업공학과\n",
      "등록시간 : 2023-05-30 06:59:54\n",
      "제목 : 2023-2학기 공과대학 재학생 교내 장학금 신청 안내\n",
      "본문 : []\n",
      "url : http://ie.hanyang.ac.kr/index.php?page=view&pg=1&idx=1971&hCode=BOARD&bo_idx=1&sfl=&stx=\n",
      "--------------------------------------------\n",
      "번호 : 733\n",
      "학과 : 산업공학과\n",
      "등록시간 : 2023-05-30 06:50:10\n",
      "제목 : [학부]2023-2학기 국가장학금(1차) 신청 안내\n",
      "본문 : []\n",
      "url : http://ie.hanyang.ac.kr/index.php?page=view&pg=1&idx=1970&hCode=BOARD&bo_idx=1&sfl=&stx=\n",
      "--------------------------------------------\n",
      "번호 : 732\n",
      "학과 : 산업공학과\n",
      "등록시간 : 2023-05-23 06:29:59\n",
      "제목 : 2023학년도 1학기 기말 강의평가 실시 안내\n",
      "본문 : []\n",
      "url : http://ie.hanyang.ac.kr/index.php?page=view&pg=1&idx=1962&hCode=BOARD&bo_idx=1&sfl=&stx=\n",
      "--------------------------------------------\n",
      "번호 : 731\n",
      "학과 : 산업공학과\n",
      "등록시간 : 2023-05-18 14:24:03\n",
      "제목 : HD현대중공업 채용연계형 현장실습모집 안내\n",
      "본문 : []\n",
      "url : http://ie.hanyang.ac.kr/index.php?page=view&pg=1&idx=1959&hCode=BOARD&bo_idx=1&sfl=&stx=\n",
      "--------------------------------------------\n",
      "번호 : 730\n",
      "학과 : 산업공학과\n",
      "등록시간 : 2023-05-09 13:42:47\n",
      "제목 : [학부]2023년 1학기 복수전공 신청 및 포기안내\n",
      "본문 : []\n",
      "url : http://ie.hanyang.ac.kr/index.php?page=view&pg=1&idx=1947&hCode=BOARD&bo_idx=1&sfl=&stx=\n",
      "--------------------------------------------\n",
      "번호 : 729\n",
      "학과 : 산업공학과\n",
      "등록시간 : 2023-05-09 13:32:14\n",
      "제목 : [학부]2023년 1학기 다중∙융합전공 신청 및 포기안내\n",
      "본문 : []\n",
      "url : http://ie.hanyang.ac.kr/index.php?page=view&pg=1&idx=1946&hCode=BOARD&bo_idx=1&sfl=&stx=\n",
      "--------------------------------------------\n",
      "번호 : 728\n",
      "학과 : 산업공학과\n",
      "등록시간 : 2023-05-09 13:21:49\n",
      "제목 : [학부]2023년 1학기 부전공 신청 및 포기 안내\n",
      "본문 : []\n",
      "url : http://ie.hanyang.ac.kr/index.php?page=view&pg=1&idx=1945&hCode=BOARD&bo_idx=1&sfl=&stx=\n",
      "--------------------------------------------\n",
      "번호 : 727\n",
      "학과 : 산업공학과\n",
      "등록시간 : 2023-04-20 11:28:23\n",
      "제목 : 2023-1 한양대학교 선배초청 온라인 직무토크 참여안내\n",
      "본문 : []\n",
      "url : http://ie.hanyang.ac.kr/index.php?page=view&pg=1&idx=1922&hCode=BOARD&bo_idx=1&sfl=&stx=\n",
      "--------------------------------------------\n",
      "번호 : 726\n",
      "학과 : 산업공학과\n",
      "등록시간 : 2023-04-18 12:12:58\n",
      "제목 : 2023학년도 1학기 서울캠퍼스 졸업앨범 촬영안내\n",
      "본문 : []\n",
      "url : http://ie.hanyang.ac.kr/index.php?page=view&pg=1&idx=1920&hCode=BOARD&bo_idx=1&sfl=&stx=\n",
      "--------------------------------------------\n",
      "번호 : 725\n",
      "학과 : 산업공학과\n",
      "등록시간 : 2023-04-07 14:25:14\n",
      "제목 : [학부]제84주년 개교기념식 공로상 대상자 신청 안내\n",
      "본문 : []\n",
      "url : http://ie.hanyang.ac.kr/index.php?page=view&pg=1&idx=1913&hCode=BOARD&bo_idx=1&sfl=&stx=\n",
      "--------------------------------------------\n",
      "번호 : 724\n",
      "학과 : 산업공학과\n",
      "등록시간 : 2023-04-07 07:44:42\n",
      "제목 : [현장실습지원센터]2023학년도 여름학기 및 (연계)2학기 현장실습 운영 안내\n",
      "본문 : []\n",
      "url : http://ie.hanyang.ac.kr/index.php?page=view&pg=1&idx=1911&hCode=BOARD&bo_idx=1&sfl=&stx=\n",
      "--------------------------------------------\n",
      "번호 : 723\n",
      "학과 : 산업공학과\n",
      "등록시간 : 2023-04-06 12:29:26\n",
      "제목 : [학부]2023-1학기 라이언헬프 장학금 신청 안내\n",
      "본문 : []\n",
      "url : http://ie.hanyang.ac.kr/index.php?page=view&pg=1&idx=1910&hCode=BOARD&bo_idx=1&sfl=&stx=\n",
      "--------------------------------------------\n",
      "번호 : 722\n",
      "학과 : 산업공학과\n",
      "등록시간 : 2023-04-06 06:10:16\n",
      "제목 : [학부] 2023년도 국가우수장학생(이공계) 재학중우수자(2년지원유형) 선발 안내\n",
      "본문 : []\n",
      "url : http://ie.hanyang.ac.kr/index.php?page=view&pg=1&idx=1909&hCode=BOARD&bo_idx=1&sfl=&stx=\n",
      "--------------------------------------------\n",
      "번호 : 721\n",
      "학과 : 산업공학과\n",
      "등록시간 : 2023-03-23 12:52:55\n",
      "제목 : 2023학년도 1학기 중간 강의평가 실시 안내\n",
      "본문 : []\n",
      "url : http://ie.hanyang.ac.kr/index.php?page=view&pg=1&idx=1889&hCode=BOARD&bo_idx=1&sfl=&stx=\n",
      "--------------------------------------------\n",
      "번호 : 720\n",
      "학과 : 산업공학과\n",
      "등록시간 : 2023-03-03 12:46:02\n",
      "제목 : 한국공학한림원 NAEK Forum 참가 학생 및 YEHS 회원 모집 공고 (2023. 3. 11.까지)\n",
      "본문 : []\n",
      "url : http://ie.hanyang.ac.kr/index.php?page=view&pg=1&idx=1854&hCode=BOARD&bo_idx=1&sfl=&stx=\n",
      "--------------------------------------------\n",
      "번호 : 719\n",
      "학과 : 산업공학과\n",
      "등록시간 : 2023-03-03 08:31:47\n",
      "제목 : 2023학년도 (재)경방장학회 장학생 선발 안내\n",
      "본문 : []\n",
      "url : http://ie.hanyang.ac.kr/index.php?page=view&pg=1&idx=1853&hCode=BOARD&bo_idx=1&sfl=&stx=\n"
     ]
    },
    {
     "ename": "KeyboardInterrupt",
     "evalue": "",
     "output_type": "error",
     "traceback": [
      "\u001b[0;31m---------------------------------------------------------------------------\u001b[0m",
      "\u001b[0;31mKeyboardInterrupt\u001b[0m                         Traceback (most recent call last)",
      "\u001b[0;32m/var/folders/rg/mxvp06m56_g09wl1jz84qkhh0000gn/T/ipykernel_17337/736917220.py\u001b[0m in \u001b[0;36m<module>\u001b[0;34m\u001b[0m\n\u001b[1;32m      7\u001b[0m \u001b[0;34m\u001b[0m\u001b[0m\n\u001b[1;32m      8\u001b[0m         \u001b[0;31m# 페이지 로드 대기\u001b[0m\u001b[0;34m\u001b[0m\u001b[0;34m\u001b[0m\u001b[0m\n\u001b[0;32m----> 9\u001b[0;31m         \u001b[0msleep\u001b[0m\u001b[0;34m(\u001b[0m\u001b[0mrandom\u001b[0m\u001b[0;34m.\u001b[0m\u001b[0mrandint\u001b[0m\u001b[0;34m(\u001b[0m\u001b[0;36m1\u001b[0m\u001b[0;34m,\u001b[0m \u001b[0;36m3\u001b[0m\u001b[0;34m)\u001b[0m\u001b[0;34m)\u001b[0m\u001b[0;34m\u001b[0m\u001b[0;34m\u001b[0m\u001b[0m\n\u001b[0m\u001b[1;32m     10\u001b[0m \u001b[0;34m\u001b[0m\u001b[0m\n\u001b[1;32m     11\u001b[0m         \u001b[0;31m# stale 오류 때문에 위의 변수를 계속 사용하지 못하고 계속 업데이트 해야함\u001b[0m\u001b[0;34m\u001b[0m\u001b[0;34m\u001b[0m\u001b[0m\n",
      "\u001b[0;31mKeyboardInterrupt\u001b[0m: "
     ]
    }
   ],
   "source": [
    "for i in range((int(num_of_content)//max_content_num)+1):\n",
    "    \n",
    "    # 마지막 페이지의 콘텐츠 수가 다를 수 있으므로\n",
    "    content_num = driver.find_elements(By.XPATH, \"/html/body/div/div[3]/div[2]/div[2]/div[2]/div[1]/form[2]/table/tbody/tr/td[1]\")\n",
    "    \n",
    "    for i in range(len(content_num)):\n",
    "\n",
    "        # 페이지 로드 대기\n",
    "        sleep(random.randint(1, 3))\n",
    "\n",
    "        # stale 오류 때문에 위의 변수를 계속 사용하지 못하고 계속 업데이트 해야함\n",
    "        content_num = driver.find_elements(By.XPATH, \"/html/body/div/div[3]/div[2]/div[2]/div[2]/div[1]/form[2]/table/tbody/tr/td[1]\")\n",
    "\n",
    "        if content_num[i].text != \"공지\":\n",
    "            print(\"--------------------------------------------\")\n",
    "            \n",
    "            data['번호'].append(content_num[i].text)\n",
    "            print('번호 :', content_num[i].text)\n",
    "            data['분류'].append(\"산업공학과\")\n",
    "            print('분류 :', \"산업공학과\")\n",
    "\n",
    "            # 글 클릭\n",
    "            con_button = driver.find_elements(By.XPATH, \"/html/body/div/div[3]/div[2]/div[2]/div[2]/div[1]/form[2]/table/tbody/tr[\" + str(i+1) + \"]/td[2]/a\")[0]\n",
    "            con_button.click()\n",
    "\n",
    "            # 등록시간 수집\n",
    "            upload_time = driver.find_elements(By.XPATH, \"/html/body/div/div[3]/div[2]/div[2]/div[2]/table/thead/tr[2]/td/ul/li[5]\")[0]\n",
    "            upload_time = upload_time.text\n",
    "            data['등록시간'].append(upload_time)\n",
    "            print('등록시간 :', upload_time)\n",
    "\n",
    "            # 제목 수집\n",
    "            title = driver.find_elements(By.XPATH, \"/html/body/div/div[3]/div[2]/div[2]/div[2]/table/thead/tr[1]/th\")[0]\n",
    "            title = title.text\n",
    "            data['제목'].append(title)\n",
    "            print('제목 :', title)\n",
    "\n",
    "            # 본문 수집\n",
    "            main = driver.find_elements(By.XPATH, \"/html/body/div/div[3]/div[2]/div[2]/div[2]/table/tbody/tr/td\")[0]\n",
    "            main = main.get_attribute('innerHTML')\n",
    "            data['본문'].append(main)\n",
    "            print('본문 :', main[:20], '~')\n",
    "\n",
    "            # url 수집\n",
    "            data['url'].append(driver.current_url)\n",
    "            print('url :',driver.current_url)\n",
    "\n",
    "            # 뒤로가기\n",
    "            driver.back()\n",
    "        else:\n",
    "            continue\n",
    "    next_button = driver.find_elements(By.XPATH, \"/html/body/div/div[3]/div[2]/div[2]/div[2]/div[1]/form[2]/div/ul/a[11]/img\")[0]\n",
    "    next_button.click()\n"
   ]
  },
  {
   "cell_type": "code",
   "execution_count": null,
   "id": "14a4f698-ec42-4abe-b5d1-46e75ed61e7b",
   "metadata": {},
   "outputs": [],
   "source": []
  },
  {
   "cell_type": "code",
   "execution_count": null,
   "id": "d42606e7-3282-479a-8f13-37813f2a9bfd",
   "metadata": {},
   "outputs": [],
   "source": []
  },
  {
   "cell_type": "code",
   "execution_count": null,
   "id": "492a79e1-ae08-444a-8916-3b25af952b7c",
   "metadata": {},
   "outputs": [],
   "source": [
    "df = pd.DataFrame(data)\n",
    "\n",
    "df.head(8)"
   ]
  },
  {
   "cell_type": "code",
   "execution_count": null,
   "id": "fdc9afd3-2306-4164-bbbe-b5914a11ea91",
   "metadata": {},
   "outputs": [],
   "source": []
  },
  {
   "cell_type": "code",
   "execution_count": null,
   "id": "4a3dba5b-09fb-4bff-a669-90330abe2eb3",
   "metadata": {},
   "outputs": [],
   "source": []
  },
  {
   "cell_type": "code",
   "execution_count": null,
   "id": "a632402a-24ed-415d-bd17-0e0c34217c50",
   "metadata": {},
   "outputs": [],
   "source": []
  },
  {
   "cell_type": "code",
   "execution_count": null,
   "id": "fa23d71b-c56e-41ee-930f-97000584ebdd",
   "metadata": {},
   "outputs": [],
   "source": [
    "# driver.close()"
   ]
  },
  {
   "cell_type": "code",
   "execution_count": null,
   "id": "7b4621f6-d044-49b2-acb0-f3f5f9e7139a",
   "metadata": {},
   "outputs": [],
   "source": [
    "# df = pd.DataFrame(data)\n",
    "\n",
    "# print(df)"
   ]
  },
  {
   "cell_type": "code",
   "execution_count": null,
   "id": "4e867796-4c78-47b9-b83b-71075d3f22aa",
   "metadata": {},
   "outputs": [],
   "source": [
    "# df.to_csv('output_350to369.csv', index=False)"
   ]
  },
  {
   "cell_type": "code",
   "execution_count": null,
   "id": "7ca3d678-55b6-4cf9-a747-4d6e79405af0",
   "metadata": {},
   "outputs": [],
   "source": []
  }
 ],
 "metadata": {
  "kernelspec": {
   "display_name": "Python 3 (ipykernel)",
   "language": "python",
   "name": "python3"
  },
  "language_info": {
   "codemirror_mode": {
    "name": "ipython",
    "version": 3
   },
   "file_extension": ".py",
   "mimetype": "text/x-python",
   "name": "python",
   "nbconvert_exporter": "python",
   "pygments_lexer": "ipython3",
   "version": "3.9.13"
  },
  "toc-autonumbering": true,
  "toc-showmarkdowntxt": false
 },
 "nbformat": 4,
 "nbformat_minor": 5
}
